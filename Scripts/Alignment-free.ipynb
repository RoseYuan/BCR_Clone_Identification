{
 "cells": [
  {
   "cell_type": "code",
   "execution_count": 1,
   "id": "1e982e6c",
   "metadata": {},
   "outputs": [],
   "source": [
    "from utils import *\n",
    "from nearest_neighbor import *\n",
    "import matplotlib.pyplot as plt\n",
    "from HAC_clustering import *"
   ]
  },
  {
   "cell_type": "code",
   "execution_count": 5,
   "id": "9f0eae93",
   "metadata": {},
   "outputs": [],
   "source": [
    "# path_data = \"/home/siyuan/thesis/Data/\"\n",
    "# path_sample = \"/home/siyuan/thesis/Data/sample90/\"\n",
    "path_data = \"/Users/lou/Thesis/BCR_Clone_Identification/Data/\"\n",
    "path_sample = \"/Users/lou/Thesis/BCR_Clone_Identification/Data/sample90\""
   ]
  },
  {
   "cell_type": "code",
   "execution_count": 4,
   "id": "d279c944",
   "metadata": {},
   "outputs": [],
   "source": [
    "d_to_nearest_all = np.load(path_data+\"d_to_nearest_negation.npy\")\n",
    "dis = np.load(path_data+\"dis_negation.npy\")"
   ]
  },
  {
   "cell_type": "markdown",
   "id": "d246e4de",
   "metadata": {},
   "source": [
    "## compute tf-idf representation"
   ]
  },
  {
   "cell_type": "markdown",
   "id": "1d892de8",
   "metadata": {},
   "source": [
    "### For sample90"
   ]
  },
  {
   "cell_type": "code",
   "execution_count": 6,
   "id": "35622b2d",
   "metadata": {},
   "outputs": [],
   "source": [
    "outfile = path_data+\"sample90_Nt_info.csv\""
   ]
  },
  {
   "cell_type": "code",
   "execution_count": 7,
   "id": "b25eedf6",
   "metadata": {
    "scrolled": true
   },
   "outputs": [
    {
     "name": "stdout",
     "output_type": "stream",
     "text": [
      "All sequence: (19195, 7)\n",
      "Unique V-D-J sequence: (19195, 7)\n"
     ]
    }
   ],
   "source": [
    "df = pd.read_csv(outfile,sep='\\t')\n",
    "print(\"All sequence:\",df.shape)\n",
    "df_unique = df.drop_duplicates(subset=\"V-D-J-REGION\", ignore_index=True)\n",
    "print(\"Unique V-D-J sequence:\",df_unique.shape)"
   ]
  },
  {
   "cell_type": "code",
   "execution_count": 8,
   "id": "841029bd",
   "metadata": {
    "scrolled": true
   },
   "outputs": [
    {
     "name": "stdout",
     "output_type": "stream",
     "text": [
      "Automatic pdb calling has been turned ON\n",
      "CPU times: user 5.07 s, sys: 120 ms, total: 5.19 s\n",
      "Wall time: 10.3 s\n"
     ]
    }
   ],
   "source": [
    "%%time\n",
    "%pdb\n",
    "seqs_tf_idf = cal_tf_idf(df.loc[:,\"V-D-J-REGION\"].values,k=2,atoms=[\"a\",\"t\",\"c\",\"g\"])"
   ]
  },
  {
   "cell_type": "markdown",
   "id": "b1829e46",
   "metadata": {},
   "source": [
    "### For negative table"
   ]
  },
  {
   "cell_type": "code",
   "execution_count": 6,
   "id": "408e2a29",
   "metadata": {},
   "outputs": [],
   "source": [
    "# neg_file = path_data + \"NegationTable/3_Nt-sequences.txt\"\n",
    "# df_neg = pd.read_csv(neg_file,sep='\\t')\n",
    "# neg_seq_file = path_data + \"Nt_negation_info.csv\"\n",
    "# read_data(neg_file, neg_seq_file)"
   ]
  },
  {
   "cell_type": "code",
   "execution_count": 7,
   "id": "8e79bf69",
   "metadata": {},
   "outputs": [],
   "source": [
    "neg_seq_file = path_data + \"Nt_negation_info.csv\"\n",
    "neg_seq = pd.read_csv(neg_seq_file,sep='\\t')"
   ]
  },
  {
   "cell_type": "code",
   "execution_count": 8,
   "id": "6f904057",
   "metadata": {
    "scrolled": true
   },
   "outputs": [
    {
     "data": {
      "text/html": [
       "<div>\n",
       "<style scoped>\n",
       "    .dataframe tbody tr th:only-of-type {\n",
       "        vertical-align: middle;\n",
       "    }\n",
       "\n",
       "    .dataframe tbody tr th {\n",
       "        vertical-align: top;\n",
       "    }\n",
       "\n",
       "    .dataframe thead th {\n",
       "        text-align: right;\n",
       "    }\n",
       "</style>\n",
       "<table border=\"1\" class=\"dataframe\">\n",
       "  <thead>\n",
       "    <tr style=\"text-align: right;\">\n",
       "      <th></th>\n",
       "      <th>Sequence number</th>\n",
       "      <th>Sequence ID</th>\n",
       "      <th>V-GENE</th>\n",
       "      <th>J-GENE</th>\n",
       "      <th>V-D-J-REGION</th>\n",
       "      <th>JUNCTION</th>\n",
       "      <th>JUNCTION length</th>\n",
       "    </tr>\n",
       "  </thead>\n",
       "  <tbody>\n",
       "    <tr>\n",
       "      <th>0</th>\n",
       "      <td>18620</td>\n",
       "      <td>18619</td>\n",
       "      <td>Homsap IGHV1-24</td>\n",
       "      <td>Homsap IGHJ5</td>\n",
       "      <td>gggctgaggtgaagaagcctggggcctcagtgaaggtctcctgcaa...</td>\n",
       "      <td>tgcgacccctgg</td>\n",
       "      <td>12</td>\n",
       "    </tr>\n",
       "    <tr>\n",
       "      <th>1</th>\n",
       "      <td>60</td>\n",
       "      <td>59</td>\n",
       "      <td>Homsap IGHV3-23D</td>\n",
       "      <td>Homsap IGHJ5</td>\n",
       "      <td>ggaggcttggtacagcctggggagtccctgagactctcctgtgcag...</td>\n",
       "      <td>tgtgcgagcggccacttg</td>\n",
       "      <td>18</td>\n",
       "    </tr>\n",
       "    <tr>\n",
       "      <th>2</th>\n",
       "      <td>86</td>\n",
       "      <td>85</td>\n",
       "      <td>Homsap IGHV7-4-1</td>\n",
       "      <td>Homsap IGHJ5</td>\n",
       "      <td>ggtctgagttgaagaagcctggggcctcagtgaaggtttcctgcac...</td>\n",
       "      <td>tgtctgagcgactacaattgg</td>\n",
       "      <td>21</td>\n",
       "    </tr>\n",
       "    <tr>\n",
       "      <th>3</th>\n",
       "      <td>108</td>\n",
       "      <td>107</td>\n",
       "      <td>Homsap IGHV7-4-1</td>\n",
       "      <td>Homsap IGHJ5</td>\n",
       "      <td>tctgagttgaagaagcctggggcctcagtgaaggtttcctgcacgg...</td>\n",
       "      <td>tgtctgagcgactacaattgg</td>\n",
       "      <td>21</td>\n",
       "    </tr>\n",
       "    <tr>\n",
       "      <th>4</th>\n",
       "      <td>114</td>\n",
       "      <td>113</td>\n",
       "      <td>Homsap IGHV7-4-1</td>\n",
       "      <td>Homsap IGHJ5</td>\n",
       "      <td>ggtctgagttgaagaagcctggggcctcagtgaaggtttcctgcac...</td>\n",
       "      <td>tgtctgagcgactacaattgg</td>\n",
       "      <td>21</td>\n",
       "    </tr>\n",
       "    <tr>\n",
       "      <th>...</th>\n",
       "      <td>...</td>\n",
       "      <td>...</td>\n",
       "      <td>...</td>\n",
       "      <td>...</td>\n",
       "      <td>...</td>\n",
       "      <td>...</td>\n",
       "      <td>...</td>\n",
       "    </tr>\n",
       "    <tr>\n",
       "      <th>14323</th>\n",
       "      <td>6318</td>\n",
       "      <td>6317</td>\n",
       "      <td>Homsap IGHV1-8</td>\n",
       "      <td>Homsap IGHJ6</td>\n",
       "      <td>gggctgaggtgaagaagcctggggcctcagtgagggtctcctgcaa...</td>\n",
       "      <td>tgtgcgagagggctctctgatccggcccgggatagtgaagtggttc...</td>\n",
       "      <td>87</td>\n",
       "    </tr>\n",
       "    <tr>\n",
       "      <th>14324</th>\n",
       "      <td>11526</td>\n",
       "      <td>11525</td>\n",
       "      <td>Homsap IGHV3-30</td>\n",
       "      <td>Homsap IGHJ3</td>\n",
       "      <td>ggggaggcgtggtccagcctgggaggtccctcagactctcctgtgc...</td>\n",
       "      <td>tgtgcgaaggggattcggaggcattacagtgtttggagcgcttata...</td>\n",
       "      <td>90</td>\n",
       "    </tr>\n",
       "    <tr>\n",
       "      <th>14325</th>\n",
       "      <td>11525</td>\n",
       "      <td>11524</td>\n",
       "      <td>Homsap IGHV3-30</td>\n",
       "      <td>Homsap IGHJ3</td>\n",
       "      <td>ggaggcgtggtccagcctgggaggtccctcagactctcctgtgcag...</td>\n",
       "      <td>tgtgcgaaggggattcggaggcattacagtgtttggagcgcttata...</td>\n",
       "      <td>90</td>\n",
       "    </tr>\n",
       "    <tr>\n",
       "      <th>14326</th>\n",
       "      <td>11527</td>\n",
       "      <td>11526</td>\n",
       "      <td>Homsap IGHV3-30</td>\n",
       "      <td>Homsap IGHJ3</td>\n",
       "      <td>gggaggcgtggtccagcctgggaggtccctcagactctcctgtgca...</td>\n",
       "      <td>tgtgcgaaggggattcggaggcattacagtgtttggagcgcttata...</td>\n",
       "      <td>90</td>\n",
       "    </tr>\n",
       "    <tr>\n",
       "      <th>14327</th>\n",
       "      <td>6</td>\n",
       "      <td>5</td>\n",
       "      <td>Homsap IGHV1-18</td>\n",
       "      <td>Homsap IGHJ3</td>\n",
       "      <td>gacctgtaccagatatggtgtcagctgggtgcgacaggcccctgga...</td>\n",
       "      <td>tgtgccagaaatgcggattggatcagtggttacaatggcgacacta...</td>\n",
       "      <td>201</td>\n",
       "    </tr>\n",
       "  </tbody>\n",
       "</table>\n",
       "<p>14328 rows × 7 columns</p>\n",
       "</div>"
      ],
      "text/plain": [
       "       Sequence number  Sequence ID            V-GENE        J-GENE  \\\n",
       "0                18620        18619   Homsap IGHV1-24  Homsap IGHJ5   \n",
       "1                   60           59  Homsap IGHV3-23D  Homsap IGHJ5   \n",
       "2                   86           85  Homsap IGHV7-4-1  Homsap IGHJ5   \n",
       "3                  108          107  Homsap IGHV7-4-1  Homsap IGHJ5   \n",
       "4                  114          113  Homsap IGHV7-4-1  Homsap IGHJ5   \n",
       "...                ...          ...               ...           ...   \n",
       "14323             6318         6317    Homsap IGHV1-8  Homsap IGHJ6   \n",
       "14324            11526        11525   Homsap IGHV3-30  Homsap IGHJ3   \n",
       "14325            11525        11524   Homsap IGHV3-30  Homsap IGHJ3   \n",
       "14326            11527        11526   Homsap IGHV3-30  Homsap IGHJ3   \n",
       "14327                6            5   Homsap IGHV1-18  Homsap IGHJ3   \n",
       "\n",
       "                                            V-D-J-REGION  \\\n",
       "0      gggctgaggtgaagaagcctggggcctcagtgaaggtctcctgcaa...   \n",
       "1      ggaggcttggtacagcctggggagtccctgagactctcctgtgcag...   \n",
       "2      ggtctgagttgaagaagcctggggcctcagtgaaggtttcctgcac...   \n",
       "3      tctgagttgaagaagcctggggcctcagtgaaggtttcctgcacgg...   \n",
       "4      ggtctgagttgaagaagcctggggcctcagtgaaggtttcctgcac...   \n",
       "...                                                  ...   \n",
       "14323  gggctgaggtgaagaagcctggggcctcagtgagggtctcctgcaa...   \n",
       "14324  ggggaggcgtggtccagcctgggaggtccctcagactctcctgtgc...   \n",
       "14325  ggaggcgtggtccagcctgggaggtccctcagactctcctgtgcag...   \n",
       "14326  gggaggcgtggtccagcctgggaggtccctcagactctcctgtgca...   \n",
       "14327  gacctgtaccagatatggtgtcagctgggtgcgacaggcccctgga...   \n",
       "\n",
       "                                                JUNCTION  JUNCTION length  \n",
       "0                                           tgcgacccctgg               12  \n",
       "1                                     tgtgcgagcggccacttg               18  \n",
       "2                                  tgtctgagcgactacaattgg               21  \n",
       "3                                  tgtctgagcgactacaattgg               21  \n",
       "4                                  tgtctgagcgactacaattgg               21  \n",
       "...                                                  ...              ...  \n",
       "14323  tgtgcgagagggctctctgatccggcccgggatagtgaagtggttc...               87  \n",
       "14324  tgtgcgaaggggattcggaggcattacagtgtttggagcgcttata...               90  \n",
       "14325  tgtgcgaaggggattcggaggcattacagtgtttggagcgcttata...               90  \n",
       "14326  tgtgcgaaggggattcggaggcattacagtgtttggagcgcttata...               90  \n",
       "14327  tgtgccagaaatgcggattggatcagtggttacaatggcgacacta...              201  \n",
       "\n",
       "[14328 rows x 7 columns]"
      ]
     },
     "execution_count": 8,
     "metadata": {},
     "output_type": "execute_result"
    }
   ],
   "source": [
    "neg_seq"
   ]
  },
  {
   "cell_type": "code",
   "execution_count": 9,
   "id": "5014e934",
   "metadata": {},
   "outputs": [],
   "source": [
    "neg_tf_idf = cal_tf_idf(neg_seq.loc[:,\"V-D-J-REGION\"].values,k=2,atoms=[\"a\",\"t\",\"c\",\"g\"])"
   ]
  },
  {
   "cell_type": "markdown",
   "id": "f7e2846c",
   "metadata": {},
   "source": [
    "## Detect cutoff using negation method"
   ]
  },
  {
   "cell_type": "code",
   "execution_count": 10,
   "id": "40b3621e",
   "metadata": {},
   "outputs": [
    {
     "name": "stdout",
     "output_type": "stream",
     "text": [
      "19195 sequences, 275011632 calls, use 915.151705 seconds.\n"
     ]
    }
   ],
   "source": [
    "seqs1 = seqs_tf_idf\n",
    "seqs2 = neg_tf_idf\n",
    "d_to_nearest_all,dis = dist_to_nearest_all_exhaustive(seqs_tf_idf, neg_tf_idf, distance=Cosine_dist)"
   ]
  },
  {
   "cell_type": "code",
   "execution_count": 11,
   "id": "81001df7",
   "metadata": {},
   "outputs": [],
   "source": [
    "np.save(path_data+\"d_to_nearest_negation.npy\", d_to_nearest_all)\n",
    "np.save(path_data+\"dis_negation.npy\", dis)"
   ]
  },
  {
   "cell_type": "code",
   "execution_count": 11,
   "id": "d6fb15e8",
   "metadata": {},
   "outputs": [],
   "source": [
    "tolerance = 0.1"
   ]
  },
  {
   "cell_type": "code",
   "execution_count": 12,
   "id": "d4f7f81b",
   "metadata": {},
   "outputs": [
    {
     "data": {
      "text/plain": [
       "0.0028415104603757846"
      ]
     },
     "execution_count": 12,
     "metadata": {},
     "output_type": "execute_result"
    }
   ],
   "source": [
    "cutoff = negation_based_cutoff(d_to_nearest_all, tolerance)\n",
    "cutoff"
   ]
  },
  {
   "cell_type": "code",
   "execution_count": 13,
   "id": "330d81c6",
   "metadata": {},
   "outputs": [
    {
     "data": {
      "text/plain": [
       "array([0.00750724, 0.00461375, 0.00675373, ..., 0.00404576, 0.00450822,\n",
       "       0.00810977])"
      ]
     },
     "execution_count": 13,
     "metadata": {},
     "output_type": "execute_result"
    }
   ],
   "source": [
    "d_to_nearest_all"
   ]
  },
  {
   "cell_type": "markdown",
   "id": "4f8fe736",
   "metadata": {},
   "source": [
    "## Calculate the pairwise distance"
   ]
  },
  {
   "cell_type": "code",
   "execution_count": null,
   "id": "fa4a753f",
   "metadata": {},
   "outputs": [],
   "source": [
    "%%time\n",
    "d_to_nearest_all_samples,dis_samples = dist_to_nearest_all_exhaustive(seqs_tf_idf,distance=Cosine_dist)\n",
    "d_to_nearest_all_samples"
   ]
  },
  {
   "cell_type": "code",
   "execution_count": 16,
   "id": "49b418fc",
   "metadata": {},
   "outputs": [],
   "source": [
    "# # open a binary file in write mode\n",
    "# file = open(path_data+\"d_to_nearest_sample90.npy\", \"wb\")\n",
    "# # save array to the file\n",
    "# np.save(file, d_to_nearest_all_samples)\n",
    "# # close the file\n",
    "# file.close\n",
    "np.save(path_data+\"d_to_nearest_sample90.npy\", d_to_nearest_all_samples)\n",
    "np.save(path_data+\"dis_sample90.npy\", dis_samples)"
   ]
  },
  {
   "cell_type": "code",
   "execution_count": 3,
   "id": "2783af97",
   "metadata": {},
   "outputs": [],
   "source": [
    "d_to_nearest_all_samples = np.load(path_data+\"d_to_nearest_sample90.npy\")\n",
    "dis_samples = np.load(path_data+\"dis_sample90.npy\")"
   ]
  },
  {
   "cell_type": "markdown",
   "id": "2fd1c72e",
   "metadata": {},
   "source": [
    "## Clustering"
   ]
  },
  {
   "cell_type": "code",
   "execution_count": 6,
   "id": "dd531bcc",
   "metadata": {},
   "outputs": [
    {
     "data": {
      "text/plain": [
       "(array([ 326.,    0., 4472.,    0., 7807., 4020., 1906.,  530.,  118.,\n",
       "          16.]),\n",
       " array([-4.44089210e-16, -3.33066907e-16, -2.22044605e-16, -1.11022302e-16,\n",
       "         0.00000000e+00,  1.11022302e-16,  2.22044605e-16,  3.33066907e-16,\n",
       "         4.44089210e-16,  5.55111512e-16,  6.66133815e-16]),\n",
       " <BarContainer object of 10 artists>)"
      ]
     },
     "execution_count": 6,
     "metadata": {},
     "output_type": "execute_result"
    },
    {
     "data": {
      "image/png": "[encoded data removed]",
      "text/plain": [
       "<Figure size 432x288 with 1 Axes>"
      ]
     },
     "metadata": {
      "needs_background": "light"
     },
     "output_type": "display_data"
    }
   ],
   "source": [
    "plt.hist(d_to_nearest_all_samples)"
   ]
  },
  {
   "cell_type": "code",
   "execution_count": null,
   "id": "68d35cb3",
   "metadata": {
    "scrolled": true
   },
   "outputs": [],
   "source": [
    "cluster_HAC(dis_samples, cutoff)"
   ]
  },
  {
   "cell_type": "code",
   "execution_count": null,
   "id": "e7da6dcf",
   "metadata": {},
   "outputs": [],
   "source": []
  }
 ],
 "metadata": {
  "kernelspec": {
   "display_name": "Python 3",
   "language": "python",
   "name": "python3"
  },
  "language_info": {
   "codemirror_mode": {
    "name": "ipython",
    "version": 3
   },
   "file_extension": ".py",
   "mimetype": "text/x-python",
   "name": "python",
   "nbconvert_exporter": "python",
   "pygments_lexer": "ipython3",
   "version": "3.7.10"
  }
 },
 "nbformat": 4,
 "nbformat_minor": 5
}
