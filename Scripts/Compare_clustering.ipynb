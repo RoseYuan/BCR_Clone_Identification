{
 "cells": [
  {
   "cell_type": "code",
   "execution_count": 10,
   "id": "1e982e6c",
   "metadata": {},
   "outputs": [],
   "source": [
    "from utils import *\n",
    "from nearest_neighbor import *\n",
    "import matplotlib.pyplot as plt\n",
    "from HAC_clustering import *\n",
    "from sklearn.preprocessing import normalize"
   ]
  },
  {
   "cell_type": "code",
   "execution_count": 11,
   "id": "9f0eae93",
   "metadata": {},
   "outputs": [],
   "source": [
    "path_data = \"/home/siyuan/thesis/Data/\"\n",
    "path_sample = \"/home/siyuan/thesis/Data/sample90/\"\n",
    "# path_data = \"/Users/lou/Thesis/BCR_Clone_Identification/Data/\"\n",
    "# path_sample = \"/Users/lou/Thesis/BCR_Clone_Identification/Data/sample90\""
   ]
  },
  {
   "cell_type": "code",
   "execution_count": 12,
   "id": "1ff27d2e",
   "metadata": {},
   "outputs": [],
   "source": [
    "samples = [\"sample%s\"%n for n in [76,77,78,79,82,83,86,87,88,89,90,91,92,93,94,95,96,97,99]]"
   ]
  },
  {
   "cell_type": "code",
   "execution_count": 13,
   "id": "7e866b61",
   "metadata": {
    "scrolled": true
   },
   "outputs": [
    {
     "name": "stdout",
     "output_type": "stream",
     "text": [
      "For sample sample76: 457 clusters using alignment-based method, 327 clusters using alignment-free method, rand index :0.978624\n",
      "For sample sample77: 316 clusters using alignment-based method, 273 clusters using alignment-free method, rand index :0.976191\n",
      "For sample sample78: 648 clusters using alignment-based method, 397 clusters using alignment-free method, rand index :0.992376\n",
      "For sample sample79: 539 clusters using alignment-based method, 332 clusters using alignment-free method, rand index :0.994112\n",
      "For sample sample82: 155 clusters using alignment-based method, 194 clusters using alignment-free method, rand index :0.969638\n",
      "For sample sample83: 234 clusters using alignment-based method, 229 clusters using alignment-free method, rand index :0.972940\n",
      "For sample sample86: 127 clusters using alignment-based method, 143 clusters using alignment-free method, rand index :0.944898\n",
      "For sample sample87: 149 clusters using alignment-based method, 172 clusters using alignment-free method, rand index :0.949079\n",
      "For sample sample88: 281 clusters using alignment-based method, 239 clusters using alignment-free method, rand index :0.990495\n",
      "For sample sample89: 208 clusters using alignment-based method, 190 clusters using alignment-free method, rand index :0.981525\n",
      "For sample sample90: 148 clusters using alignment-based method, 129 clusters using alignment-free method, rand index :0.943681\n",
      "For sample sample91: 169 clusters using alignment-based method, 123 clusters using alignment-free method, rand index :0.965648\n",
      "For sample sample92: 374 clusters using alignment-based method, 296 clusters using alignment-free method, rand index :0.990490\n",
      "For sample sample93: 307 clusters using alignment-based method, 254 clusters using alignment-free method, rand index :0.991764\n",
      "For sample sample94: 306 clusters using alignment-based method, 261 clusters using alignment-free method, rand index :0.962961\n",
      "For sample sample95: 404 clusters using alignment-based method, 333 clusters using alignment-free method, rand index :0.976021\n",
      "For sample sample96: 762 clusters using alignment-based method, 426 clusters using alignment-free method, rand index :0.995924\n",
      "For sample sample97: 838 clusters using alignment-based method, 461 clusters using alignment-free method, rand index :0.996535\n",
      "For sample sample99: 463 clusters using alignment-based method, 342 clusters using alignment-free method, rand index :0.981975\n"
     ]
    }
   ],
   "source": [
    "for sample in samples:\n",
    "    clusters1 = np.load(path_data+\"clustering_%s_a-based.npy\"%sample)\n",
    "    clusters2 = np.load(path_data+\"clustering_%s_a-free.npy\"%sample)\n",
    "    print(\"For sample %s: %d clusters using alignment-based method, %d clusters using alignment-free method, rand index :%f\"\n",
    "          %(sample,np.max(clusters1),np.max(clusters2),rand_index(clusters1, clusters2)))"
   ]
  },
  {
   "cell_type": "code",
   "execution_count": null,
   "id": "78623d89",
   "metadata": {},
   "outputs": [],
   "source": []
  }
 ],
 "metadata": {
  "kernelspec": {
   "display_name": "Python 3",
   "language": "python",
   "name": "python3"
  },
  "language_info": {
   "codemirror_mode": {
    "name": "ipython",
    "version": 3
   },
   "file_extension": ".py",
   "mimetype": "text/x-python",
   "name": "python",
   "nbconvert_exporter": "python",
   "pygments_lexer": "ipython3",
   "version": "3.7.10"
  }
 },
 "nbformat": 4,
 "nbformat_minor": 5
}
