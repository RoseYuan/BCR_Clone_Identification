{
 "cells": [
  {
   "cell_type": "code",
   "execution_count": 1,
   "id": "1e982e6c",
   "metadata": {},
   "outputs": [],
   "source": [
    "from utils import *\n",
    "from nearest_neighbor import *\n",
    "import matplotlib.pyplot as plt\n",
    "from scipy.ndimage import gaussian_filter1d\n",
    "pd.set_option('max_columns', None)\n",
    "from HAC_clustering import *"
   ]
  },
  {
   "cell_type": "code",
   "execution_count": 2,
   "id": "9f0eae93",
   "metadata": {},
   "outputs": [],
   "source": [
    "# path_data = \"/Users/lou/Thesis/BCR_Clone_Identification/Data/\"\n",
    "# path_data = \"/Users/lou/Box/Human Lymph Node/\"\n",
    "path_data = \"/home/siyuan/thesis/Data/\""
   ]
  },
  {
   "cell_type": "code",
   "execution_count": 3,
   "id": "92624b53",
   "metadata": {},
   "outputs": [],
   "source": [
    "samples = [\"sample%s\"%n for n in [76,77,78,79,82,83,86,87,88,89,90,91,92,93,94,95,96,97,99]]"
   ]
  },
  {
   "cell_type": "markdown",
   "id": "4eb93c77",
   "metadata": {},
   "source": [
    "## Read, check and clean the data"
   ]
  },
  {
   "cell_type": "code",
   "execution_count": 4,
   "id": "b6238402",
   "metadata": {
    "scrolled": true
   },
   "outputs": [
    {
     "name": "stdout",
     "output_type": "stream",
     "text": [
      "========== sample76 ===========\n"
     ]
    },
    {
     "name": "stderr",
     "output_type": "stream",
     "text": [
      "/Users/lou/Lib/anaconda3/envs/thesis/lib/python3.7/site-packages/IPython/core/interactiveshell.py:3357: DtypeWarning: Columns (20) have mixed types.Specify dtype option on import or set low_memory=False.\n",
      "  if (await self.run_code(code, result,  async_=asy)):\n"
     ]
    },
    {
     "name": "stdout",
     "output_type": "stream",
     "text": [
      "128104 sequences in total.\n",
      "Drop 91467 duplicated sequences.\n",
      "Drop 4438 sequences by filtering V-DOMAIN Functionality.\n",
      "32199 sequences remain.\n",
      "Drop 0 rows contain nan.\n",
      "========== sample77 ===========\n"
     ]
    },
    {
     "name": "stderr",
     "output_type": "stream",
     "text": [
      "/Users/lou/Lib/anaconda3/envs/thesis/lib/python3.7/site-packages/IPython/core/interactiveshell.py:3357: DtypeWarning: Columns (20) have mixed types.Specify dtype option on import or set low_memory=False.\n",
      "  if (await self.run_code(code, result,  async_=asy)):\n"
     ]
    },
    {
     "name": "stdout",
     "output_type": "stream",
     "text": [
      "109624 sequences in total.\n",
      "Drop 76457 duplicated sequences.\n",
      "Drop 5207 sequences by filtering V-DOMAIN Functionality.\n",
      "27960 sequences remain.\n",
      "Drop 0 rows contain nan.\n",
      "========== sample78 ===========\n"
     ]
    },
    {
     "name": "stderr",
     "output_type": "stream",
     "text": [
      "/Users/lou/Lib/anaconda3/envs/thesis/lib/python3.7/site-packages/IPython/core/interactiveshell.py:3357: DtypeWarning: Columns (20) have mixed types.Specify dtype option on import or set low_memory=False.\n",
      "  if (await self.run_code(code, result,  async_=asy)):\n"
     ]
    },
    {
     "name": "stdout",
     "output_type": "stream",
     "text": [
      "139906 sequences in total.\n",
      "Drop 101454 duplicated sequences.\n",
      "Drop 7602 sequences by filtering V-DOMAIN Functionality.\n",
      "30850 sequences remain.\n",
      "Drop 0 rows contain nan.\n",
      "========== sample79 ===========\n",
      "103389 sequences in total.\n",
      "Drop 79078 duplicated sequences.\n",
      "Drop 5617 sequences by filtering V-DOMAIN Functionality.\n",
      "18694 sequences remain.\n",
      "Drop 0 rows contain nan.\n",
      "========== sample82 ===========\n"
     ]
    },
    {
     "name": "stderr",
     "output_type": "stream",
     "text": [
      "/Users/lou/Lib/anaconda3/envs/thesis/lib/python3.7/site-packages/IPython/core/interactiveshell.py:3357: DtypeWarning: Columns (22) have mixed types.Specify dtype option on import or set low_memory=False.\n",
      "  if (await self.run_code(code, result,  async_=asy)):\n"
     ]
    },
    {
     "name": "stdout",
     "output_type": "stream",
     "text": [
      "119273 sequences in total.\n",
      "Drop 83818 duplicated sequences.\n",
      "Drop 2641 sequences by filtering V-DOMAIN Functionality.\n",
      "32814 sequences remain.\n",
      "Drop 0 rows contain nan.\n",
      "========== sample83 ===========\n"
     ]
    },
    {
     "name": "stderr",
     "output_type": "stream",
     "text": [
      "/Users/lou/Lib/anaconda3/envs/thesis/lib/python3.7/site-packages/IPython/core/interactiveshell.py:3357: DtypeWarning: Columns (22) have mixed types.Specify dtype option on import or set low_memory=False.\n",
      "  if (await self.run_code(code, result,  async_=asy)):\n"
     ]
    },
    {
     "name": "stdout",
     "output_type": "stream",
     "text": [
      "128558 sequences in total.\n",
      "Drop 92039 duplicated sequences.\n",
      "Drop 2856 sequences by filtering V-DOMAIN Functionality.\n",
      "33663 sequences remain.\n",
      "Drop 0 rows contain nan.\n",
      "========== sample86 ===========\n",
      "97131 sequences in total.\n",
      "Drop 73995 duplicated sequences.\n",
      "Drop 3500 sequences by filtering V-DOMAIN Functionality.\n",
      "19636 sequences remain.\n",
      "Drop 0 rows contain nan.\n",
      "========== sample87 ===========\n"
     ]
    },
    {
     "name": "stderr",
     "output_type": "stream",
     "text": [
      "/Users/lou/Lib/anaconda3/envs/thesis/lib/python3.7/site-packages/IPython/core/interactiveshell.py:3357: DtypeWarning: Columns (20) have mixed types.Specify dtype option on import or set low_memory=False.\n",
      "  if (await self.run_code(code, result,  async_=asy)):\n"
     ]
    },
    {
     "name": "stdout",
     "output_type": "stream",
     "text": [
      "96238 sequences in total.\n",
      "Drop 62371 duplicated sequences.\n",
      "Drop 5883 sequences by filtering V-DOMAIN Functionality.\n",
      "27984 sequences remain.\n",
      "Drop 0 rows contain nan.\n",
      "========== sample88 ===========\n"
     ]
    },
    {
     "name": "stderr",
     "output_type": "stream",
     "text": [
      "/Users/lou/Lib/anaconda3/envs/thesis/lib/python3.7/site-packages/IPython/core/interactiveshell.py:3357: DtypeWarning: Columns (20) have mixed types.Specify dtype option on import or set low_memory=False.\n",
      "  if (await self.run_code(code, result,  async_=asy)):\n"
     ]
    },
    {
     "name": "stdout",
     "output_type": "stream",
     "text": [
      "127292 sequences in total.\n",
      "Drop 98087 duplicated sequences.\n",
      "Drop 4033 sequences by filtering V-DOMAIN Functionality.\n",
      "25172 sequences remain.\n",
      "Drop 0 rows contain nan.\n",
      "========== sample89 ===========\n",
      "82600 sequences in total.\n",
      "Drop 60246 duplicated sequences.\n",
      "Drop 978 sequences by filtering V-DOMAIN Functionality.\n",
      "21376 sequences remain.\n",
      "Drop 0 rows contain nan.\n",
      "========== sample90 ===========\n",
      "81317 sequences in total.\n",
      "Drop 56154 duplicated sequences.\n",
      "Drop 5968 sequences by filtering V-DOMAIN Functionality.\n",
      "19195 sequences remain.\n",
      "Drop 0 rows contain nan.\n",
      "========== sample91 ===========\n"
     ]
    },
    {
     "name": "stderr",
     "output_type": "stream",
     "text": [
      "/Users/lou/Lib/anaconda3/envs/thesis/lib/python3.7/site-packages/IPython/core/interactiveshell.py:3357: DtypeWarning: Columns (37) have mixed types.Specify dtype option on import or set low_memory=False.\n",
      "  if (await self.run_code(code, result,  async_=asy)):\n"
     ]
    },
    {
     "name": "stdout",
     "output_type": "stream",
     "text": [
      "147662 sequences in total.\n",
      "Drop 118301 duplicated sequences.\n",
      "Drop 5144 sequences by filtering V-DOMAIN Functionality.\n",
      "24217 sequences remain.\n",
      "Drop 0 rows contain nan.\n",
      "========== sample92 ===========\n"
     ]
    },
    {
     "name": "stderr",
     "output_type": "stream",
     "text": [
      "/Users/lou/Lib/anaconda3/envs/thesis/lib/python3.7/site-packages/IPython/core/interactiveshell.py:3357: DtypeWarning: Columns (20) have mixed types.Specify dtype option on import or set low_memory=False.\n",
      "  if (await self.run_code(code, result,  async_=asy)):\n"
     ]
    },
    {
     "name": "stdout",
     "output_type": "stream",
     "text": [
      "77038 sequences in total.\n",
      "Drop 51811 duplicated sequences.\n",
      "Drop 2316 sequences by filtering V-DOMAIN Functionality.\n",
      "22911 sequences remain.\n",
      "Drop 0 rows contain nan.\n",
      "========== sample93 ===========\n"
     ]
    },
    {
     "name": "stderr",
     "output_type": "stream",
     "text": [
      "/Users/lou/Lib/anaconda3/envs/thesis/lib/python3.7/site-packages/IPython/core/interactiveshell.py:3357: DtypeWarning: Columns (20,22) have mixed types.Specify dtype option on import or set low_memory=False.\n",
      "  if (await self.run_code(code, result,  async_=asy)):\n"
     ]
    },
    {
     "name": "stdout",
     "output_type": "stream",
     "text": [
      "101580 sequences in total.\n",
      "Drop 76107 duplicated sequences.\n",
      "Drop 4575 sequences by filtering V-DOMAIN Functionality.\n",
      "20898 sequences remain.\n",
      "Drop 0 rows contain nan.\n",
      "========== sample94 ===========\n",
      "95173 sequences in total.\n",
      "Drop 55039 duplicated sequences.\n",
      "Drop 6005 sequences by filtering V-DOMAIN Functionality.\n",
      "34129 sequences remain.\n",
      "Drop 0 rows contain nan.\n",
      "========== sample95 ===========\n",
      "85731 sequences in total.\n",
      "Drop 47769 duplicated sequences.\n",
      "Drop 5402 sequences by filtering V-DOMAIN Functionality.\n",
      "32560 sequences remain.\n",
      "Drop 0 rows contain nan.\n",
      "========== sample96 ===========\n",
      "89467 sequences in total.\n",
      "Drop 55270 duplicated sequences.\n",
      "Drop 4326 sequences by filtering V-DOMAIN Functionality.\n",
      "29871 sequences remain.\n",
      "Drop 0 rows contain nan.\n",
      "========== sample97 ===========\n"
     ]
    },
    {
     "name": "stderr",
     "output_type": "stream",
     "text": [
      "/Users/lou/Lib/anaconda3/envs/thesis/lib/python3.7/site-packages/IPython/core/interactiveshell.py:3357: DtypeWarning: Columns (20) have mixed types.Specify dtype option on import or set low_memory=False.\n",
      "  if (await self.run_code(code, result,  async_=asy)):\n"
     ]
    },
    {
     "name": "stdout",
     "output_type": "stream",
     "text": [
      "88341 sequences in total.\n",
      "Drop 51227 duplicated sequences.\n",
      "Drop 5292 sequences by filtering V-DOMAIN Functionality.\n",
      "31822 sequences remain.\n",
      "Drop 0 rows contain nan.\n",
      "========== sample99 ===========\n"
     ]
    },
    {
     "name": "stderr",
     "output_type": "stream",
     "text": [
      "/Users/lou/Lib/anaconda3/envs/thesis/lib/python3.7/site-packages/IPython/core/interactiveshell.py:3357: DtypeWarning: Columns (20) have mixed types.Specify dtype option on import or set low_memory=False.\n",
      "  if (await self.run_code(code, result,  async_=asy)):\n"
     ]
    },
    {
     "name": "stdout",
     "output_type": "stream",
     "text": [
      "84681 sequences in total.\n",
      "Drop 50734 duplicated sequences.\n",
      "Drop 4293 sequences by filtering V-DOMAIN Functionality.\n",
      "29654 sequences remain.\n",
      "Drop 0 rows contain nan.\n"
     ]
    }
   ],
   "source": [
    "for sample in samples:\n",
    "    path_sample = path_data + sample + \"/\"\n",
    "    Nt_file = path_sample+\"3_Nt-sequences.txt\"\n",
    "    outfile = path_data+sample+\"_Nt_info.csv\"\n",
    "    print(\"========== %s ===========\"%sample)\n",
    "    read_data(Nt_file,outfile)"
   ]
  },
  {
   "cell_type": "code",
   "execution_count": 5,
   "id": "954f4ad4",
   "metadata": {
    "scrolled": true
   },
   "outputs": [],
   "source": [
    "# # what does the warning mean?\n",
    "# df = pd.read_csv(path_data+\"sample76/3_Nt-sequences.txt\", sep='\\t')\n",
    "# df"
   ]
  },
  {
   "cell_type": "code",
   "execution_count": 12,
   "id": "e0b7265d",
   "metadata": {
    "scrolled": true
   },
   "outputs": [],
   "source": [
    "df_all = pd.concat((pd.read_csv(path_data+sample+\"_Nt_info.csv\",sep='\\t')) for sample in samples)\n",
    "outfile = path_data+\"sample76-99_Nt_info.csv\"\n",
    "df_all.to_csv(outfile, sep='\\t', index=False)"
   ]
  },
  {
   "cell_type": "markdown",
   "id": "646bcf83",
   "metadata": {},
   "source": [
    "## Calculate distance to the nearest (not identical) distribution using all sequence pairs"
   ]
  },
  {
   "cell_type": "markdown",
   "id": "e8299cc6",
   "metadata": {},
   "source": [
    "### Using Hamming distance\n",
    "\n",
    "Only compute the distance when the sequence pair are of the same, but put everything together to get one distribution.\n",
    "\n",
    "Comparable because the distance is normalized by the length."
   ]
  },
  {
   "cell_type": "markdown",
   "id": "de4d1d1d",
   "metadata": {},
   "source": [
    "**With duplicated sequences removed and all samples combined:**"
   ]
  },
  {
   "cell_type": "code",
   "execution_count": 16,
   "id": "962f958b",
   "metadata": {},
   "outputs": [
    {
     "name": "stdout",
     "output_type": "stream",
     "text": [
      "All sequence: (515605, 7)\n",
      "Unique V-D-J sequence: (501435, 7)\n"
     ]
    }
   ],
   "source": [
    "# outfile = path_data+\"sample76-99_Nt_info.csv\"\n",
    "# df = pd.read_csv(outfile,sep='\\t')\n",
    "# print(\"All sequence:\",df.shape)\n",
    "# df_unique = df.drop_duplicates(subset=\"V-D-J-REGION\", ignore_index=True)\n",
    "# print(\"Unique V-D-J sequence:\",df_unique.shape)"
   ]
  },
  {
   "cell_type": "code",
   "execution_count": 4,
   "id": "84f4c9d6",
   "metadata": {
    "scrolled": true
   },
   "outputs": [
    {
     "name": "stdout",
     "output_type": "stream",
     "text": [
      "All sequence: (515605, 7)\n",
      "Unique junction sequence: (17793, 7)\n",
      "For group ['JUNCTION length'] = 18.0: \n",
      "3 sequences, 6 calls, use 0.000045 seconds.\n",
      "For group ['JUNCTION length'] = 21.0: \n",
      "5 sequences, 20 calls, use 0.000053 seconds.\n",
      "For group ['JUNCTION length'] = 24.0: \n",
      "66 sequences, 4290 calls, use 0.006801 seconds.\n",
      "For group ['JUNCTION length'] = 27.0: \n",
      "22 sequences, 462 calls, use 0.000872 seconds.\n",
      "For group ['JUNCTION length'] = 30.0: \n",
      "153 sequences, 23256 calls, use 0.043976 seconds.\n",
      "For group ['JUNCTION length'] = 33.0: \n",
      "145 sequences, 20880 calls, use 0.042033 seconds.\n",
      "For group ['JUNCTION length'] = 36.0: \n",
      "523 sequences, 273006 calls, use 0.577718 seconds.\n",
      "For group ['JUNCTION length'] = 39.0: \n",
      "323 sequences, 104006 calls, use 0.241306 seconds.\n",
      "For group ['JUNCTION length'] = 42.0: \n",
      "708 sequences, 500556 calls, use 1.251336 seconds.\n",
      "For group ['JUNCTION length'] = 45.0: \n",
      "1639 sequences, 2684682 calls, use 7.151390 seconds.\n",
      "For group ['JUNCTION length'] = 48.0: \n",
      "969 sequences, 937992 calls, use 2.541595 seconds.\n",
      "For group ['JUNCTION length'] = 51.0: \n",
      "1164 sequences, 1353732 calls, use 3.919286 seconds.\n",
      "For group ['JUNCTION length'] = 54.0: \n",
      "1962 sequences, 3847482 calls, use 11.859466 seconds.\n",
      "For group ['JUNCTION length'] = 57.0: \n",
      "1397 sequences, 1950212 calls, use 6.202595 seconds.\n",
      "For group ['JUNCTION length'] = 60.0: \n",
      "1247 sequences, 1553762 calls, use 5.193172 seconds.\n",
      "For group ['JUNCTION length'] = 63.0: \n",
      "2040 sequences, 4159560 calls, use 14.002825 seconds.\n",
      "For group ['JUNCTION length'] = 66.0: \n",
      "1608 sequences, 2584056 calls, use 9.155202 seconds.\n",
      "For group ['JUNCTION length'] = 69.0: \n",
      "496 sequences, 245520 calls, use 0.914579 seconds.\n",
      "For group ['JUNCTION length'] = 72.0: \n",
      "1238 sequences, 1531406 calls, use 6.097167 seconds.\n",
      "For group ['JUNCTION length'] = 75.0: \n",
      "928 sequences, 860256 calls, use 3.564924 seconds.\n",
      "For group ['JUNCTION length'] = 78.0: \n",
      "587 sequences, 343982 calls, use 1.470958 seconds.\n",
      "For group ['JUNCTION length'] = 81.0: \n",
      "143 sequences, 20306 calls, use 0.091453 seconds.\n",
      "For group ['JUNCTION length'] = 84.0: \n",
      "253 sequences, 63756 calls, use 0.282824 seconds.\n",
      "For group ['JUNCTION length'] = 87.0: \n",
      "42 sequences, 1722 calls, use 0.008376 seconds.\n",
      "For group ['JUNCTION length'] = 90.0: \n",
      "36 sequences, 1260 calls, use 0.006374 seconds.\n",
      "For group ['JUNCTION length'] = 93.0: \n",
      "49 sequences, 2352 calls, use 0.011539 seconds.\n",
      "For group ['JUNCTION length'] = 96.0: \n",
      "25 sequences, 600 calls, use 0.003000 seconds.\n",
      "For group ['JUNCTION length'] = 99.0: \n",
      "5 sequences, 20 calls, use 0.000128 seconds.\n",
      "For group ['JUNCTION length'] = 102.0: \n",
      "3 sequences, 6 calls, use 0.000054 seconds.\n",
      "For group ['JUNCTION length'] = 105.0: \n",
      "4 sequences, 12 calls, use 0.000093 seconds.\n",
      "For group ['JUNCTION length'] = 123.0: \n",
      "3 sequences, 6 calls, use 0.000056 seconds.\n",
      "Length of the distance to nearest neighbor list:  17786\n",
      "CPU times: user 1min 21s, sys: 261 ms, total: 1min 22s\n",
      "Wall time: 1min 22s\n"
     ]
    }
   ],
   "source": [
    "%%time\n",
    "outfile = path_data+\"sample76-99_Nt_info.csv\"\n",
    "df = pd.read_csv(outfile,sep='\\t')\n",
    "print(\"All sequence:\",df.shape)\n",
    "df_unique = df.drop_duplicates(subset=\"JUNCTION\", ignore_index=True)\n",
    "print(\"Unique junction sequence:\",df_unique.shape)\n",
    "d_to_nearest_all,_ = cal_dist_to_nearest_all_exhaustive(df_unique,groupby=[\"JUNCTION length\"])\n",
    "print(\"Length of the distance to nearest neighbor list: \",len(d_to_nearest_all))"
   ]
  },
  {
   "cell_type": "markdown",
   "id": "64223e9a",
   "metadata": {},
   "source": [
    "## Detect the cut-off"
   ]
  },
  {
   "cell_type": "code",
   "execution_count": 113,
   "id": "ef903e35",
   "metadata": {},
   "outputs": [
    {
     "data": {
      "image/png": "[encoded data removed]",
      "text/plain": [
       "<Figure size 1152x432 with 2 Axes>"
      ]
     },
     "metadata": {
      "needs_background": "light"
     },
     "output_type": "display_data"
    }
   ],
   "source": [
    "bins=30\n",
    "cov = 1.5\n",
    "fig, ax = plt.subplots(1,2,figsize=(16,6))\n",
    "fig.suptitle(\"Distance-to-nearest neighbor distribution\")\n",
    "\n",
    "# the histogram\n",
    "ax[0].hist(d_to_nearest_all,bins=bins,label=\"frequency\")\n",
    "ax[0].set_yscale('log')\n",
    "\n",
    "ax[0].set_xlabel(\"Normalized Hamming distance to nearest\")\n",
    "ax[0].set_ylabel(\"Frequency\")\n",
    "\n",
    "# the smoothed curve\n",
    "freq = np.histogram(d_to_nearest_all, bins=bins)\n",
    "freq_pos = [f if f>0 else f+1 for f in freq[0]] # mask zero\n",
    "smoothed_freq0 = gaussian_filter1d(np.log(freq_pos),cov)\n",
    "ax[0].plot(freq[1][:-1],np.exp(smoothed_freq0), label='smoothed')\n",
    "ax[0].legend()\n",
    "\n",
    "# ___ detection of local minimums and maximums ___\n",
    "min_ind = (np.diff(np.sign(np.diff(smoothed_freq0))) > 0).nonzero()[0] + 1 \n",
    "# local min\n",
    "loc_min = freq[1][min_ind]\n",
    "ax[1].plot(freq[1][:-1],np.exp(smoothed_freq0), label='smoothed',c='orange')\n",
    "ax[1].set_yscale('log')\n",
    "ax[1].set_xlabel(\"Normalized Hamming distance\")\n",
    "ax[1].set_ylabel(\"Frequency\")\n",
    "ax[1].set_ylim(ax[0].get_ylim())\n",
    "plt.axvline(loc_min,ymin=-0.002, linestyle='--', c='grey')\n",
    "plt.text(loc_min-0.05, 1, \"%1f\"%loc_min[0], color='red')\n",
    "plt.grid()\n",
    "ax[1].legend()\n",
    "plt.show()\n",
    "# plt.savefig(figname)"
   ]
  },
  {
   "cell_type": "markdown",
   "id": "76ac91ee",
   "metadata": {},
   "source": [
    "## Clustering sample 90"
   ]
  },
  {
   "cell_type": "code",
   "execution_count": 4,
   "id": "21a0e548",
   "metadata": {
    "scrolled": true
   },
   "outputs": [
    {
     "name": "stdout",
     "output_type": "stream",
     "text": [
      "All sequence: (19195, 7)\n",
      "Unique junction sequence: (623, 7)\n",
      "For group ['JUNCTION length'] = 24.0: \n",
      "14 sequences, 91 calls, use 0.000549 seconds.\n",
      "For group ['JUNCTION length'] = 30.0: \n",
      "2 sequences, 1 calls, use 0.000154 seconds.\n",
      "For group ['JUNCTION length'] = 33.0: \n",
      "2 sequences, 1 calls, use 0.000133 seconds.\n",
      "For group ['JUNCTION length'] = 39.0: \n",
      "7 sequences, 21 calls, use 0.000233 seconds.\n",
      "For group ['JUNCTION length'] = 42.0: \n",
      "15 sequences, 105 calls, use 0.000647 seconds.\n",
      "For group ['JUNCTION length'] = 45.0: \n",
      "64 sequences, 2016 calls, use 0.013498 seconds.\n",
      "For group ['JUNCTION length'] = 48.0: \n",
      "61 sequences, 1830 calls, use 0.013040 seconds.\n",
      "For group ['JUNCTION length'] = 51.0: \n",
      "16 sequences, 120 calls, use 0.001751 seconds.\n",
      "For group ['JUNCTION length'] = 54.0: \n",
      "250 sequences, 31125 calls, use 0.303820 seconds.\n",
      "For group ['JUNCTION length'] = 57.0: \n",
      "6 sequences, 15 calls, use 0.002891 seconds.\n",
      "For group ['JUNCTION length'] = 60.0: \n",
      "63 sequences, 1953 calls, use 0.018399 seconds.\n",
      "For group ['JUNCTION length'] = 63.0: \n",
      "68 sequences, 2278 calls, use 0.031484 seconds.\n",
      "For group ['JUNCTION length'] = 66.0: \n",
      "15 sequences, 105 calls, use 0.001241 seconds.\n",
      "For group ['JUNCTION length'] = 69.0: \n",
      "13 sequences, 78 calls, use 0.000772 seconds.\n",
      "For group ['JUNCTION length'] = 72.0: \n",
      "16 sequences, 120 calls, use 0.001110 seconds.\n",
      "For group ['JUNCTION length'] = 75.0: \n",
      "2 sequences, 1 calls, use 0.000110 seconds.\n",
      "For group ['JUNCTION length'] = 81.0: \n",
      "3 sequences, 3 calls, use 0.000140 seconds.\n",
      "For group ['JUNCTION length'] = 84.0: \n",
      "4 sequences, 6 calls, use 0.000155 seconds.\n",
      "CPU times: user 524 ms, sys: 38.4 ms, total: 563 ms\n",
      "Wall time: 708 ms\n"
     ]
    }
   ],
   "source": [
    "%%time\n",
    "outfile = path_data+\"sample90_Nt_info.csv\"\n",
    "df = pd.read_csv(outfile,sep='\\t')\n",
    "print(\"All sequence:\",df.shape)\n",
    "df_unique = df.drop_duplicates(subset=\"JUNCTION\", ignore_index=True)\n",
    "print(\"Unique junction sequence:\",df_unique.shape)\n",
    "d_to_nearest_all,dis = cal_dist_to_nearest_all_exhaustive(df_unique,groupby=[\"JUNCTION length\"])"
   ]
  },
  {
   "cell_type": "code",
   "execution_count": 5,
   "id": "1178087c",
   "metadata": {
    "scrolled": true
   },
   "outputs": [
    {
     "name": "stdout",
     "output_type": "stream",
     "text": [
      "Automatic pdb calling has been turned ON\n"
     ]
    },
    {
     "data": {
      "image/png": "[encoded data removed]",
      "text/plain": [
       "<Figure size 432x288 with 2 Axes>"
      ]
     },
     "metadata": {
      "needs_background": "light"
     },
     "output_type": "display_data"
    },
    {
     "name": "stdout",
     "output_type": "stream",
     "text": [
      "\n",
      "\n",
      "  Calculating information clusters with hierarchical clustering...\n",
      "    For a threshold distance of d = 0.117886 there is 71 clusters\n"
     ]
    },
    {
     "data": {
      "image/png": "[encoded data removed]",
      "text/plain": [
       "<Figure size 720x360 with 1 Axes>"
      ]
     },
     "metadata": {
      "needs_background": "light"
     },
     "output_type": "display_data"
    },
    {
     "data": {
      "image/png": "[encoded data removed]",
      "text/plain": [
       "<Figure size 576x576 with 1 Axes>"
      ]
     },
     "metadata": {
      "needs_background": "light"
     },
     "output_type": "display_data"
    },
    {
     "data": {
      "text/plain": [
       "array([68, 68, 68, 68, 68, 68, 68, 68, 68, 68, 68, 68, 68, 68, 69, 69, 66,\n",
       "       67, 70, 62, 63, 64, 63, 62, 65, 63, 59, 60, 60, 60, 60, 61, 60, 60,\n",
       "       60, 60, 60, 60, 60, 60, 59, 58, 58, 58, 58, 58, 58, 58, 57, 58, 58,\n",
       "       58, 58, 58, 58, 58, 58, 58, 58, 58, 58, 58, 58, 58, 58, 58, 58, 58,\n",
       "       58, 58, 58, 58, 58, 58, 58, 58, 58, 58, 58, 58, 58, 58, 57, 58, 58,\n",
       "       58, 58, 58, 58, 58, 58, 58, 58, 58, 58, 58, 58, 58, 58, 58, 58, 58,\n",
       "       57, 58, 58, 56, 56, 53, 55, 53, 53, 56, 51, 56, 52, 53, 52, 53, 56,\n",
       "       55, 53, 56, 53, 53, 55, 53, 53, 53, 53, 56, 53, 53, 53, 51, 55, 53,\n",
       "       51, 52, 56, 56, 53, 53, 52, 56, 56, 53, 49, 55, 54, 55, 56, 53, 52,\n",
       "       55, 53, 53, 54, 53, 56, 55, 50, 53, 55, 56, 53, 53, 45, 43, 46, 47,\n",
       "       46, 46, 46, 43, 44, 43, 47, 48, 47, 43, 43, 47, 30, 30, 32, 32, 41,\n",
       "       38, 38, 32, 32, 31, 31, 32, 30, 32, 40, 31, 32, 33, 37, 35, 31, 31,\n",
       "       39, 31, 32, 31, 31, 30, 31, 32, 32, 31, 32, 32, 31, 30, 30, 31, 31,\n",
       "       32, 41, 35, 32, 32, 32, 32, 32, 31, 31, 30, 32, 33, 40, 33, 32, 32,\n",
       "       32, 31, 32, 32, 30, 32, 36, 32, 35, 41, 30, 30, 32, 32, 37, 31, 42,\n",
       "       32, 32, 42, 33, 38, 31, 32, 34, 32, 32, 32, 32, 32, 30, 32, 30, 31,\n",
       "       32, 33, 31, 32, 30, 32, 32, 30, 32, 31, 32, 32, 41, 30, 32, 33, 32,\n",
       "       38, 32, 32, 40, 32, 32, 32, 32, 32, 32, 32, 32, 32, 33, 32, 31, 32,\n",
       "       32, 31, 33, 32, 40, 32, 42, 40, 30, 32, 32, 32, 32, 31, 31, 32, 32,\n",
       "       32, 32, 42, 31, 32, 31, 32, 30, 32, 30, 31, 30, 30, 32, 30, 33, 32,\n",
       "       33, 31, 32, 30, 32, 32, 32, 31, 32, 32, 40, 32, 32, 32, 32, 32, 40,\n",
       "       33, 42, 32, 32, 32, 32, 40, 32, 31, 32, 32, 30, 30, 32, 32, 30, 31,\n",
       "       33, 32, 32, 32, 42, 32, 31, 32, 32, 32, 32, 41, 31, 33, 32, 32, 33,\n",
       "       38, 40, 38, 33, 32, 32, 42, 38, 32, 39, 32, 33, 32, 32, 33, 32, 32,\n",
       "       31, 32, 31, 32, 32, 32, 32, 31, 40, 32, 30, 32, 32, 31, 32, 30, 32,\n",
       "       31, 31, 32, 32, 32, 30, 31, 28, 29, 27, 28, 29, 27, 22, 22, 21, 22,\n",
       "       21, 21, 20, 22, 22, 20, 22, 23, 26, 25, 20, 22, 23, 22, 20, 22, 22,\n",
       "       24, 21, 22, 21, 22, 22, 22, 21, 20, 22, 22, 22, 22, 22, 21, 22, 22,\n",
       "       21, 22, 22, 21, 22, 21, 24, 21, 22, 22, 22, 23, 22, 22, 21, 22, 21,\n",
       "       21, 21, 22, 23, 22, 20, 20, 21, 16, 16, 18, 16, 16, 16, 16, 16, 16,\n",
       "       16, 16, 16, 16, 16, 16, 16, 16, 16, 16, 18, 16, 16, 19, 16, 16, 16,\n",
       "       16, 16, 16, 16, 16, 16, 16, 16, 16, 16, 16, 16, 17, 16, 16, 16, 16,\n",
       "       16, 16, 16, 16, 16, 16, 16, 16, 16, 16, 16, 16, 16, 16, 16, 16, 16,\n",
       "       16, 16, 16, 18, 16, 16, 16, 16, 10, 13, 15, 11, 12, 14, 10, 10, 13,\n",
       "       10, 10, 10, 13, 13, 13,  8,  7,  7,  7,  9,  8,  8,  7,  8,  8,  8,\n",
       "        7,  7,  5,  6,  6,  5,  6,  6,  6,  5,  5,  5,  5,  5,  6,  6,  6,\n",
       "        6,  4,  4,  2,  3,  2,  1,  1,  1,  1, 71], dtype=int32)"
      ]
     },
     "execution_count": 5,
     "metadata": {},
     "output_type": "execute_result"
    }
   ],
   "source": [
    "%pdb\n",
    "d_threshold = loc_min = 0.117886\n",
    "cluster_HAC(dis, d_threshold)"
   ]
  },
  {
   "cell_type": "code",
   "execution_count": 5,
   "id": "d67edb68",
   "metadata": {},
   "outputs": [
    {
     "data": {
      "image/png": "[encoded data removed]",
      "text/plain": [
       "<Figure size 432x288 with 1 Axes>"
      ]
     },
     "metadata": {
      "needs_background": "light"
     },
     "output_type": "display_data"
    }
   ],
   "source": [
    "plt.hist(d_to_nearest_all)\n",
    "plt.yscale(\"log\")"
   ]
  },
  {
   "cell_type": "code",
   "execution_count": 7,
   "id": "00bc5350",
   "metadata": {},
   "outputs": [
    {
     "data": {
      "text/plain": [
       "0.008130081300813009"
      ]
     },
     "execution_count": 7,
     "metadata": {},
     "output_type": "execute_result"
    }
   ],
   "source": [
    "np.min(d_to_nearest_all)"
   ]
  },
  {
   "cell_type": "code",
   "execution_count": null,
   "id": "831a75ec",
   "metadata": {},
   "outputs": [],
   "source": []
  }
 ],
 "metadata": {
  "kernelspec": {
   "display_name": "Python 3",
   "language": "python",
   "name": "python3"
  },
  "language_info": {
   "codemirror_mode": {
    "name": "ipython",
    "version": 3
   },
   "file_extension": ".py",
   "mimetype": "text/x-python",
   "name": "python",
   "nbconvert_exporter": "python",
   "pygments_lexer": "ipython3",
   "version": "3.7.10"
  }
 },
 "nbformat": 4,
 "nbformat_minor": 5
}
