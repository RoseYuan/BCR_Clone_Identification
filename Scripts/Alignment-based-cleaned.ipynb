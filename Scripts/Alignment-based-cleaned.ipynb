{
 "cells": [
  {
   "cell_type": "code",
   "execution_count": 1,
   "id": "1e982e6c",
   "metadata": {},
   "outputs": [],
   "source": [
    "from utils import *\n",
    "from nearest_neighbor import *\n",
    "import matplotlib.pyplot as plt"
   ]
  },
  {
   "cell_type": "code",
   "execution_count": 2,
   "id": "9f0eae93",
   "metadata": {},
   "outputs": [],
   "source": [
    "path_data = \"/Users/lou/Thesis/BCR_Clone_Identification/Data/\"\n",
    "path_sample = \"/Users/lou/Thesis/BCR_Clone_Identification/Data/sample90/\""
   ]
  },
  {
   "cell_type": "code",
   "execution_count": 3,
   "id": "5d5b99c3",
   "metadata": {},
   "outputs": [],
   "source": [
    "Nt_file = path_sample+\"3_Nt-sequences.txt\"\n",
    "outfile = path_data+\"Nt_info.csv\"\n",
    "# read_data(Nt_file,outfile)"
   ]
  },
  {
   "cell_type": "code",
   "execution_count": 4,
   "id": "e0b7265d",
   "metadata": {
    "scrolled": true
   },
   "outputs": [
    {
     "data": {
      "text/html": [
       "<div>\n",
       "<style scoped>\n",
       "    .dataframe tbody tr th:only-of-type {\n",
       "        vertical-align: middle;\n",
       "    }\n",
       "\n",
       "    .dataframe tbody tr th {\n",
       "        vertical-align: top;\n",
       "    }\n",
       "\n",
       "    .dataframe thead th {\n",
       "        text-align: right;\n",
       "    }\n",
       "</style>\n",
       "<table border=\"1\" class=\"dataframe\">\n",
       "  <thead>\n",
       "    <tr style=\"text-align: right;\">\n",
       "      <th></th>\n",
       "      <th>Sequence number</th>\n",
       "      <th>Sequence ID</th>\n",
       "      <th>V-GENE</th>\n",
       "      <th>J-GENE</th>\n",
       "      <th>V-D-J-REGION</th>\n",
       "      <th>JUNCTION</th>\n",
       "      <th>JUNCTION length</th>\n",
       "    </tr>\n",
       "  </thead>\n",
       "  <tbody>\n",
       "    <tr>\n",
       "      <th>0</th>\n",
       "      <td>1</td>\n",
       "      <td>M06023:233:000000000-JCVJP:1:1102:22274:8511_1...</td>\n",
       "      <td>Homsap IGHV5-51</td>\n",
       "      <td>Homsap IGHJ6</td>\n",
       "      <td>aagggttctggatacagttttaccaactactggatcggctgggtgc...</td>\n",
       "      <td>tgtgcgaggtcaaattatcatgatagtagtggttaccactactacg...</td>\n",
       "      <td>63.0</td>\n",
       "    </tr>\n",
       "    <tr>\n",
       "      <th>1</th>\n",
       "      <td>3</td>\n",
       "      <td>M06023:233:000000000-JCVJP:1:1102:23002:8543_1...</td>\n",
       "      <td>Homsap IGHV2-5</td>\n",
       "      <td>Homsap IGHJ4</td>\n",
       "      <td>acaccgaccctcacgctgacctgtaccttctctgggttctcactca...</td>\n",
       "      <td>tgtgcacacagctctgtcggggtcgacgggctggtccaggactttg...</td>\n",
       "      <td>54.0</td>\n",
       "    </tr>\n",
       "    <tr>\n",
       "      <th>2</th>\n",
       "      <td>4</td>\n",
       "      <td>M06023:233:000000000-JCVJP:1:1102:11694:8553_1...</td>\n",
       "      <td>Homsap IGHV2-5</td>\n",
       "      <td>Homsap IGHJ4</td>\n",
       "      <td>acacagaccctcacgctgacctgcaccttctctgggttctcactca...</td>\n",
       "      <td>tgtgcacacagctctgtaggggtcgacgggctggtccaggactttg...</td>\n",
       "      <td>54.0</td>\n",
       "    </tr>\n",
       "    <tr>\n",
       "      <th>3</th>\n",
       "      <td>5</td>\n",
       "      <td>M06023:233:000000000-JCVJP:1:1102:14232:8560_1...</td>\n",
       "      <td>Homsap IGHV1-46</td>\n",
       "      <td>Homsap IGHJ4</td>\n",
       "      <td>gcatctggatacatcttcaccagctactttatgcactgggtgcgac...</td>\n",
       "      <td>tgtgcgagagatgggtcgattgagtggctacgattgggctactgg</td>\n",
       "      <td>45.0</td>\n",
       "    </tr>\n",
       "    <tr>\n",
       "      <th>4</th>\n",
       "      <td>7</td>\n",
       "      <td>M06023:233:000000000-JCVJP:1:1102:9846:8586_1:...</td>\n",
       "      <td>Homsap IGHV2-5</td>\n",
       "      <td>Homsap IGHJ4</td>\n",
       "      <td>acacagaccctcacgctgacctgcaccgtctctgggttctcactca...</td>\n",
       "      <td>tgtgcacacagctctgtaggggtcgacgggctggtccaggactttg...</td>\n",
       "      <td>54.0</td>\n",
       "    </tr>\n",
       "    <tr>\n",
       "      <th>...</th>\n",
       "      <td>...</td>\n",
       "      <td>...</td>\n",
       "      <td>...</td>\n",
       "      <td>...</td>\n",
       "      <td>...</td>\n",
       "      <td>...</td>\n",
       "      <td>...</td>\n",
       "    </tr>\n",
       "    <tr>\n",
       "      <th>19190</th>\n",
       "      <td>81302</td>\n",
       "      <td>M06023:233:000000000-JCVJP:1:2119:18177:24811_...</td>\n",
       "      <td>Homsap IGHV1-46</td>\n",
       "      <td>Homsap IGHJ6</td>\n",
       "      <td>gcatctggatacaccttcaccagctactatatacactggctacgac...</td>\n",
       "      <td>tgtgcgaggtcaaattatcataataatagtggttaccactactacg...</td>\n",
       "      <td>63.0</td>\n",
       "    </tr>\n",
       "    <tr>\n",
       "      <th>19191</th>\n",
       "      <td>81306</td>\n",
       "      <td>M06023:233:000000000-JCVJP:1:2119:19235:24852_...</td>\n",
       "      <td>Homsap IGHV1-2</td>\n",
       "      <td>Homsap IGHJ4</td>\n",
       "      <td>gcttctggatacaccttcaccgactactatatgcactgggtgcgac...</td>\n",
       "      <td>tgtgcgagagatgggtcgattgtgtggccacgattgggctactgg</td>\n",
       "      <td>45.0</td>\n",
       "    </tr>\n",
       "    <tr>\n",
       "      <th>19192</th>\n",
       "      <td>81310</td>\n",
       "      <td>M06023:233:000000000-JCVJP:1:2119:17091:24945_...</td>\n",
       "      <td>Homsap IGHV1-2</td>\n",
       "      <td>Homsap IGHJ4</td>\n",
       "      <td>ggcctcagttctcctgcaaggcttctggatacaccttcaccgacta...</td>\n",
       "      <td>tgtgcgagagcctcagactactgg</td>\n",
       "      <td>24.0</td>\n",
       "    </tr>\n",
       "    <tr>\n",
       "      <th>19193</th>\n",
       "      <td>81312</td>\n",
       "      <td>M06023:233:000000000-JCVJP:1:2119:15970:24974_...</td>\n",
       "      <td>Homsap IGHV1-46</td>\n",
       "      <td>Homsap IGHJ4</td>\n",
       "      <td>gaatctggatacatcttcaccagctactatatgcactgggtgcgac...</td>\n",
       "      <td>tgtgcgagagatgggtcgattgagtggccacgattgggctactgg</td>\n",
       "      <td>45.0</td>\n",
       "    </tr>\n",
       "    <tr>\n",
       "      <th>19194</th>\n",
       "      <td>81316</td>\n",
       "      <td>M06023:233:000000000-JCVJP:1:2119:21749:25128_...</td>\n",
       "      <td>Homsap IGHV5-51</td>\n",
       "      <td>Homsap IGHJ6</td>\n",
       "      <td>aagggttctggatacagttttagcagctattggatcgcctgggtgc...</td>\n",
       "      <td>tgtgcgaggtcaaattatcatgatagtagtggttaccactactacg...</td>\n",
       "      <td>63.0</td>\n",
       "    </tr>\n",
       "  </tbody>\n",
       "</table>\n",
       "<p>19195 rows × 7 columns</p>\n",
       "</div>"
      ],
      "text/plain": [
       "       Sequence number                                        Sequence ID  \\\n",
       "0                    1  M06023:233:000000000-JCVJP:1:1102:22274:8511_1...   \n",
       "1                    3  M06023:233:000000000-JCVJP:1:1102:23002:8543_1...   \n",
       "2                    4  M06023:233:000000000-JCVJP:1:1102:11694:8553_1...   \n",
       "3                    5  M06023:233:000000000-JCVJP:1:1102:14232:8560_1...   \n",
       "4                    7  M06023:233:000000000-JCVJP:1:1102:9846:8586_1:...   \n",
       "...                ...                                                ...   \n",
       "19190            81302  M06023:233:000000000-JCVJP:1:2119:18177:24811_...   \n",
       "19191            81306  M06023:233:000000000-JCVJP:1:2119:19235:24852_...   \n",
       "19192            81310  M06023:233:000000000-JCVJP:1:2119:17091:24945_...   \n",
       "19193            81312  M06023:233:000000000-JCVJP:1:2119:15970:24974_...   \n",
       "19194            81316  M06023:233:000000000-JCVJP:1:2119:21749:25128_...   \n",
       "\n",
       "                V-GENE        J-GENE  \\\n",
       "0      Homsap IGHV5-51  Homsap IGHJ6   \n",
       "1       Homsap IGHV2-5  Homsap IGHJ4   \n",
       "2       Homsap IGHV2-5  Homsap IGHJ4   \n",
       "3      Homsap IGHV1-46  Homsap IGHJ4   \n",
       "4       Homsap IGHV2-5  Homsap IGHJ4   \n",
       "...                ...           ...   \n",
       "19190  Homsap IGHV1-46  Homsap IGHJ6   \n",
       "19191   Homsap IGHV1-2  Homsap IGHJ4   \n",
       "19192   Homsap IGHV1-2  Homsap IGHJ4   \n",
       "19193  Homsap IGHV1-46  Homsap IGHJ4   \n",
       "19194  Homsap IGHV5-51  Homsap IGHJ6   \n",
       "\n",
       "                                            V-D-J-REGION  \\\n",
       "0      aagggttctggatacagttttaccaactactggatcggctgggtgc...   \n",
       "1      acaccgaccctcacgctgacctgtaccttctctgggttctcactca...   \n",
       "2      acacagaccctcacgctgacctgcaccttctctgggttctcactca...   \n",
       "3      gcatctggatacatcttcaccagctactttatgcactgggtgcgac...   \n",
       "4      acacagaccctcacgctgacctgcaccgtctctgggttctcactca...   \n",
       "...                                                  ...   \n",
       "19190  gcatctggatacaccttcaccagctactatatacactggctacgac...   \n",
       "19191  gcttctggatacaccttcaccgactactatatgcactgggtgcgac...   \n",
       "19192  ggcctcagttctcctgcaaggcttctggatacaccttcaccgacta...   \n",
       "19193  gaatctggatacatcttcaccagctactatatgcactgggtgcgac...   \n",
       "19194  aagggttctggatacagttttagcagctattggatcgcctgggtgc...   \n",
       "\n",
       "                                                JUNCTION  JUNCTION length  \n",
       "0      tgtgcgaggtcaaattatcatgatagtagtggttaccactactacg...             63.0  \n",
       "1      tgtgcacacagctctgtcggggtcgacgggctggtccaggactttg...             54.0  \n",
       "2      tgtgcacacagctctgtaggggtcgacgggctggtccaggactttg...             54.0  \n",
       "3          tgtgcgagagatgggtcgattgagtggctacgattgggctactgg             45.0  \n",
       "4      tgtgcacacagctctgtaggggtcgacgggctggtccaggactttg...             54.0  \n",
       "...                                                  ...              ...  \n",
       "19190  tgtgcgaggtcaaattatcataataatagtggttaccactactacg...             63.0  \n",
       "19191      tgtgcgagagatgggtcgattgtgtggccacgattgggctactgg             45.0  \n",
       "19192                           tgtgcgagagcctcagactactgg             24.0  \n",
       "19193      tgtgcgagagatgggtcgattgagtggccacgattgggctactgg             45.0  \n",
       "19194  tgtgcgaggtcaaattatcatgatagtagtggttaccactactacg...             63.0  \n",
       "\n",
       "[19195 rows x 7 columns]"
      ]
     },
     "execution_count": 4,
     "metadata": {},
     "output_type": "execute_result"
    }
   ],
   "source": [
    "df = pd.read_csv(outfile,sep='\\t')\n",
    "df"
   ]
  },
  {
   "cell_type": "code",
   "execution_count": 5,
   "id": "7fb85d29",
   "metadata": {},
   "outputs": [],
   "source": [
    "keys, values = group_seq(df)"
   ]
  },
  {
   "cell_type": "markdown",
   "id": "646bcf83",
   "metadata": {},
   "source": [
    "## Calculate distance to the nearest (not identical) distribution using all sequence pairs"
   ]
  },
  {
   "cell_type": "markdown",
   "id": "e8299cc6",
   "metadata": {},
   "source": [
    "### Using Hamming distance\n",
    "#### without removing duplicates\n",
    "\n",
    "Only compute the distance when the sequence pair are of the same \n",
    "\n",
    "But put everything together to get one distribution\n",
    "\n",
    "Comparable because the distance is normalized by the length"
   ]
  },
  {
   "cell_type": "code",
   "execution_count": null,
   "id": "78569334",
   "metadata": {},
   "outputs": [],
   "source": [
    "import time\n",
    "start_time = time.time()\n",
    "df_summary = pd.DataFrame(columns=[\"Junction length\",\"number of seq\",\"index\",\"d to nearest\"])\n",
    "for i,length in enumerate(keys1):\n",
    "    index = list(values1)[i]\n",
    "    n_seq = len_counts[length]\n",
    "    dis = dist_groupwise(df,index)\n",
    "    d_to_nearest = dist_to_nearest(dis)\n",
    "    df_summary.append({\"Junction length\":length,\n",
    "                       \"number of seq\":n_seq,\n",
    "                       \"index\":index,\n",
    "                       \"d to nearest\":d_to_nearest},\n",
    "                      ignore_index=True)\n",
    "print(\"--- %s seconds ---\" % (time.time() - start_time))"
   ]
  },
  {
   "cell_type": "markdown",
   "id": "ad8dbde8",
   "metadata": {},
   "source": [
    "Didn't finish computing.\n",
    "\n",
    "Conclusion: cost too many time to compute, infeasible."
   ]
  },
  {
   "cell_type": "markdown",
   "id": "de4d1d1d",
   "metadata": {},
   "source": [
    "#### With duplicated sequences removed:"
   ]
  },
  {
   "cell_type": "code",
   "execution_count": 7,
   "id": "75c27f59",
   "metadata": {
    "scrolled": true
   },
   "outputs": [
    {
     "name": "stdout",
     "output_type": "stream",
     "text": [
      "For group ['JUNCTION length'] = 24.0 , 1979 sequences, 1957231 calls, use 9.649024 seconds.\n",
      "For group ['JUNCTION length'] = 30.0 , 68 sequences, 2278 calls, use 0.011823 seconds.\n",
      "For group ['JUNCTION length'] = 33.0 , 6 sequences, 15 calls, use 0.000978 seconds.\n",
      "For group ['JUNCTION length'] = 36.0 , 2 sequences, 1 calls, use 0.000463 seconds.\n",
      "For group ['JUNCTION length'] = 39.0 , 276 sequences, 37950 calls, use 0.185266 seconds.\n",
      "For group ['JUNCTION length'] = 42.0 , 574 sequences, 164451 calls, use 0.856731 seconds.\n",
      "For group ['JUNCTION length'] = 45.0 , 3268 sequences, 5338278 calls, use 32.190146 seconds.\n",
      "For group ['JUNCTION length'] = 48.0 , 2909 sequences, 4229686 calls, use 31.757329 seconds.\n",
      "For group ['JUNCTION length'] = 51.0 , 348 sequences, 60378 calls, use 0.422858 seconds.\n",
      "For group ['JUNCTION length'] = 54.0 , 5586 sequences, 15598905 calls, use 114.792268 seconds.\n",
      "For group ['JUNCTION length'] = 57.0 , 28 sequences, 378 calls, use 0.027068 seconds.\n",
      "For group ['JUNCTION length'] = 60.0 , 1797 sequences, 1613706 calls, use 11.671792 seconds.\n",
      "For group ['JUNCTION length'] = 63.0 , 977 sequences, 476776 calls, use 3.181477 seconds.\n",
      "For group ['JUNCTION length'] = 66.0 , 384 sequences, 73536 calls, use 0.570806 seconds.\n",
      "For group ['JUNCTION length'] = 69.0 , 389 sequences, 75466 calls, use 0.745460 seconds.\n",
      "For group ['JUNCTION length'] = 72.0 , 506 sequences, 127765 calls, use 1.357850 seconds.\n",
      "For group ['JUNCTION length'] = 75.0 , 14 sequences, 91 calls, use 0.002142 seconds.\n",
      "For group ['JUNCTION length'] = 81.0 , 5 sequences, 10 calls, use 0.000812 seconds.\n",
      "For group ['JUNCTION length'] = 84.0 , 78 sequences, 3003 calls, use 0.027107 seconds.\n",
      "CPU times: user 3min 3s, sys: 2.24 s, total: 3min 5s\n",
      "Wall time: 3min 27s\n"
     ]
    }
   ],
   "source": [
    "%%time\n",
    "d_to_nearest_all = dist_to_nearest_all_exhaustive(df)"
   ]
  },
  {
   "cell_type": "code",
   "execution_count": 8,
   "id": "b32157b9",
   "metadata": {},
   "outputs": [
    {
     "data": {
      "text/plain": [
       "19194"
      ]
     },
     "execution_count": 8,
     "metadata": {},
     "output_type": "execute_result"
    }
   ],
   "source": [
    "len(d_to_nearest_all)"
   ]
  },
  {
   "cell_type": "code",
   "execution_count": 9,
   "id": "05a5f621",
   "metadata": {},
   "outputs": [
    {
     "data": {
      "text/plain": [
       "array([0., 0., 0., ..., 0., 0., 0.])"
      ]
     },
     "execution_count": 9,
     "metadata": {},
     "output_type": "execute_result"
    }
   ],
   "source": [
    "d_to_nearest_all"
   ]
  },
  {
   "cell_type": "code",
   "execution_count": 10,
   "id": "6ab53e87",
   "metadata": {
    "scrolled": true
   },
   "outputs": [
    {
     "data": {
      "text/plain": [
       "(array([1.8794e+04, 3.6100e+02, 1.1000e+01, 1.7000e+01, 0.0000e+00,\n",
       "        1.0000e+00, 0.0000e+00, 0.0000e+00, 0.0000e+00, 1.0000e+00,\n",
       "        0.0000e+00, 0.0000e+00, 0.0000e+00, 0.0000e+00, 0.0000e+00,\n",
       "        0.0000e+00, 0.0000e+00, 0.0000e+00, 0.0000e+00, 2.0000e+00,\n",
       "        0.0000e+00, 1.0000e+00, 0.0000e+00, 1.0000e+00, 1.0000e+00,\n",
       "        0.0000e+00, 1.0000e+00, 0.0000e+00, 1.0000e+00, 0.0000e+00,\n",
       "        0.0000e+00, 0.0000e+00, 0.0000e+00, 0.0000e+00, 0.0000e+00,\n",
       "        0.0000e+00, 0.0000e+00, 0.0000e+00, 0.0000e+00, 0.0000e+00,\n",
       "        1.0000e+00, 0.0000e+00, 0.0000e+00, 0.0000e+00, 0.0000e+00,\n",
       "        0.0000e+00, 0.0000e+00, 0.0000e+00, 0.0000e+00, 1.0000e+00]),\n",
       " array([0.        , 0.01259259, 0.02518519, 0.03777778, 0.05037037,\n",
       "        0.06296296, 0.07555556, 0.08814815, 0.10074074, 0.11333333,\n",
       "        0.12592593, 0.13851852, 0.15111111, 0.1637037 , 0.1762963 ,\n",
       "        0.18888889, 0.20148148, 0.21407407, 0.22666667, 0.23925926,\n",
       "        0.25185185, 0.26444444, 0.27703704, 0.28962963, 0.30222222,\n",
       "        0.31481481, 0.32740741, 0.34      , 0.35259259, 0.36518519,\n",
       "        0.37777778, 0.39037037, 0.40296296, 0.41555556, 0.42814815,\n",
       "        0.44074074, 0.45333333, 0.46592593, 0.47851852, 0.49111111,\n",
       "        0.5037037 , 0.5162963 , 0.52888889, 0.54148148, 0.55407407,\n",
       "        0.56666667, 0.57925926, 0.59185185, 0.60444444, 0.61703704,\n",
       "        0.62962963]),\n",
       " <BarContainer object of 50 artists>)"
      ]
     },
     "execution_count": 10,
     "metadata": {},
     "output_type": "execute_result"
    },
    {
     "data": {
      "image/png": "[encoded data removed]",
      "text/plain": [
       "<Figure size 432x288 with 1 Axes>"
      ]
     },
     "metadata": {
      "needs_background": "light"
     },
     "output_type": "display_data"
    }
   ],
   "source": [
    "plt.hist(d_to_nearest_all,bins=50)"
   ]
  },
  {
   "cell_type": "code",
   "execution_count": 16,
   "id": "8fcc5cc5",
   "metadata": {},
   "outputs": [
    {
     "data": {
      "image/png": "[encoded data removed]",
      "text/plain": [
       "<Figure size 432x288 with 1 Axes>"
      ]
     },
     "metadata": {
      "needs_background": "light"
     },
     "output_type": "display_data"
    }
   ],
   "source": [
    "plt.hist(d_to_nearest_all,bins=10)\n",
    "plt.yscale('log')\n",
    "plt.show()"
   ]
  },
  {
   "cell_type": "markdown",
   "id": "ab21612c",
   "metadata": {},
   "source": [
    "Filtering out the dominant components"
   ]
  },
  {
   "cell_type": "code",
   "execution_count": 17,
   "id": "d5aeee98",
   "metadata": {
    "scrolled": true
   },
   "outputs": [
    {
     "data": {
      "image/png": "[encoded data removed]",
      "text/plain": [
       "<Figure size 432x288 with 1 Axes>"
      ]
     },
     "metadata": {
      "needs_background": "light"
     },
     "output_type": "display_data"
    }
   ],
   "source": [
    "plt.hist(d_to_nearest_all[np.array(d_to_nearest_all>0)],bins=10)\n",
    "plt.yscale('log')\n",
    "plt.show()"
   ]
  },
  {
   "cell_type": "code",
   "execution_count": null,
   "id": "3337ea90",
   "metadata": {},
   "outputs": [],
   "source": []
  },
  {
   "cell_type": "code",
   "execution_count": 36,
   "id": "4c55470c",
   "metadata": {
    "scrolled": true
   },
   "outputs": [
    {
     "data": {
      "text/plain": [
       "JUNCTION\n",
       "cgtgcacacagctctgtcggggtcgaccggctggtccaggactttgactactgg       1\n",
       "tgtgcgagagatgggtcgattgagtggccacgattgggctaccgg                1\n",
       "tgtgcgagagatgggtcgattgagtggccacgattggactactgg                1\n",
       "tgtgcgagagatgggtcgattgagtggcaacgattggggtactgg                1\n",
       "tgtgcgagagatgggtcgattaagtggcgacgattggggtactgg                1\n",
       "                                                          ... \n",
       "tgtgcacacagctctgtcggggtcgacgggctggtccaggactttgactactgg     778\n",
       "tgtgcacacagctctgtcggggtcgaccggctggtccaggactttgactactgg     968\n",
       "tgtgcgagagataccgttggaactacggttgatgcttttgatatctgg          1194\n",
       "tgtgcgagagatgggtcgattgagtggccacgattgggctactgg             1196\n",
       "tgtgcgagagcctcagactactgg                                  1966\n",
       "Length: 623, dtype: int64"
      ]
     },
     "execution_count": 36,
     "metadata": {},
     "output_type": "execute_result"
    }
   ],
   "source": [
    "freq = df.groupby([\"JUNCTION\"]).size().sort_values()\n",
    "freq"
   ]
  },
  {
   "cell_type": "code",
   "execution_count": 39,
   "id": "b43ab2b2",
   "metadata": {},
   "outputs": [
    {
     "data": {
      "text/plain": [
       "18791"
      ]
     },
     "execution_count": 39,
     "metadata": {},
     "output_type": "execute_result"
    }
   ],
   "source": [
    "freq[freq!=1].sum()"
   ]
  },
  {
   "cell_type": "code",
   "execution_count": 46,
   "id": "d5023a9f",
   "metadata": {},
   "outputs": [
    {
     "data": {
      "text/plain": [
       "Int64Index([3815, 8130], dtype='int64')"
      ]
     },
     "execution_count": 46,
     "metadata": {},
     "output_type": "execute_result"
    }
   ],
   "source": [
    "list(df.groupby([\"JUNCTION\"]).groups.values())[24]"
   ]
  },
  {
   "cell_type": "code",
   "execution_count": 54,
   "id": "1d8cdd97",
   "metadata": {},
   "outputs": [
    {
     "data": {
      "text/html": [
       "<div>\n",
       "<style scoped>\n",
       "    .dataframe tbody tr th:only-of-type {\n",
       "        vertical-align: middle;\n",
       "    }\n",
       "\n",
       "    .dataframe tbody tr th {\n",
       "        vertical-align: top;\n",
       "    }\n",
       "\n",
       "    .dataframe thead th {\n",
       "        text-align: right;\n",
       "    }\n",
       "</style>\n",
       "<table border=\"1\" class=\"dataframe\">\n",
       "  <thead>\n",
       "    <tr style=\"text-align: right;\">\n",
       "      <th></th>\n",
       "      <th>Sequence number</th>\n",
       "      <th>Sequence ID</th>\n",
       "      <th>V-GENE</th>\n",
       "      <th>J-GENE</th>\n",
       "      <th>V-D-J-REGION</th>\n",
       "      <th>JUNCTION</th>\n",
       "      <th>JUNCTION length</th>\n",
       "    </tr>\n",
       "  </thead>\n",
       "  <tbody>\n",
       "    <tr>\n",
       "      <th>3815</th>\n",
       "      <td>10834</td>\n",
       "      <td>M06023:233:000000000-JCVJP:1:2113:8120:21140_1...</td>\n",
       "      <td>Homsap IGHV5-51</td>\n",
       "      <td>Homsap IGHJ6</td>\n",
       "      <td>aagggttctggatacagttttaccagctactggatcggctgggtgc...</td>\n",
       "      <td>tatgcgaggtcaaattatcatgatagtagtggttaccactactacg...</td>\n",
       "      <td>63.0</td>\n",
       "    </tr>\n",
       "    <tr>\n",
       "      <th>8130</th>\n",
       "      <td>27772</td>\n",
       "      <td>M06023:233:000000000-JCVJP:1:2105:24490:5083_1...</td>\n",
       "      <td>Homsap IGHV5-51</td>\n",
       "      <td>Homsap IGHJ6</td>\n",
       "      <td>aagggttctggatacagttttaccaactactggatcggctgggtgc...</td>\n",
       "      <td>tatgcgaggtcaaattatcatgatagtagtggttaccactactacg...</td>\n",
       "      <td>63.0</td>\n",
       "    </tr>\n",
       "  </tbody>\n",
       "</table>\n",
       "</div>"
      ],
      "text/plain": [
       "      Sequence number                                        Sequence ID  \\\n",
       "3815            10834  M06023:233:000000000-JCVJP:1:2113:8120:21140_1...   \n",
       "8130            27772  M06023:233:000000000-JCVJP:1:2105:24490:5083_1...   \n",
       "\n",
       "               V-GENE        J-GENE  \\\n",
       "3815  Homsap IGHV5-51  Homsap IGHJ6   \n",
       "8130  Homsap IGHV5-51  Homsap IGHJ6   \n",
       "\n",
       "                                           V-D-J-REGION  \\\n",
       "3815  aagggttctggatacagttttaccagctactggatcggctgggtgc...   \n",
       "8130  aagggttctggatacagttttaccaactactggatcggctgggtgc...   \n",
       "\n",
       "                                               JUNCTION  JUNCTION length  \n",
       "3815  tatgcgaggtcaaattatcatgatagtagtggttaccactactacg...             63.0  \n",
       "8130  tatgcgaggtcaaattatcatgatagtagtggttaccactactacg...             63.0  "
      ]
     },
     "execution_count": 54,
     "metadata": {},
     "output_type": "execute_result"
    }
   ],
   "source": [
    "df.loc[[3815,8130],:]"
   ]
  },
  {
   "cell_type": "code",
   "execution_count": 66,
   "id": "e1e60e50",
   "metadata": {},
   "outputs": [
    {
     "data": {
      "text/plain": [
       "'aagggttctggatacagttttaccagctactggatcggctgggtgcgccagatgcccgggaaaggcctggagtggatggggatcatctctcctggttactctgataccagatacagcccgtccttccaaggccaggtcaccatctcagccgacaagtccatcagtaccgcctacttgcagtggagtagcctgaaggcctcggacaccgccatgtattactatgcgaggtcaaattatcatgatagtagtggttaccactactacgacggtatggacgtctggggccaagggaccac'"
      ]
     },
     "execution_count": 66,
     "metadata": {},
     "output_type": "execute_result"
    }
   ],
   "source": [
    "a = df.loc[3815,\"V-D-J-REGION\"]\n",
    "a"
   ]
  },
  {
   "cell_type": "code",
   "execution_count": 67,
   "id": "d0c92d22",
   "metadata": {},
   "outputs": [
    {
     "data": {
      "text/plain": [
       "'aagggttctggatacagttttaccaactactggatcggctgggtgcgccagatgcccgggaagggcctggagtggatggggatcatctctcccggtgactctgataccagatacagcccgtccttccaaggccaggtcaccatctcagccgacaagtccatcagtaccgcctacttgcagtggagtagcctgaaggcctcggacaccgccatgtatttctatgcgaggtcaaattatcatgatagtagtggttaccactactacgacggtatggacgtctggggccaagggaccac'"
      ]
     },
     "execution_count": 67,
     "metadata": {},
     "output_type": "execute_result"
    }
   ],
   "source": [
    "b = df.loc[8130,\"V-D-J-REGION\"]\n",
    "b"
   ]
  },
  {
   "cell_type": "code",
   "execution_count": 74,
   "id": "400b7f55",
   "metadata": {},
   "outputs": [
    {
     "data": {
      "text/plain": [
       "False"
      ]
     },
     "execution_count": 74,
     "metadata": {},
     "output_type": "execute_result"
    }
   ],
   "source": [
    "b[20:30] != a[20:30]"
   ]
  },
  {
   "cell_type": "code",
   "execution_count": 75,
   "id": "05489474",
   "metadata": {},
   "outputs": [
    {
     "data": {
      "text/plain": [
       "'taccaactac'"
      ]
     },
     "execution_count": 75,
     "metadata": {},
     "output_type": "execute_result"
    }
   ],
   "source": [
    "b[20:30]"
   ]
  },
  {
   "cell_type": "code",
   "execution_count": 76,
   "id": "3ea4b06c",
   "metadata": {},
   "outputs": [
    {
     "data": {
      "text/plain": [
       "'taccagctac'"
      ]
     },
     "execution_count": 76,
     "metadata": {},
     "output_type": "execute_result"
    }
   ],
   "source": [
    "a[20:30]"
   ]
  },
  {
   "cell_type": "code",
   "execution_count": 93,
   "id": "5fca4a6b",
   "metadata": {},
   "outputs": [
    {
     "data": {
      "text/plain": [
       "Int64Index([   28,    82,    97,   135,   140,   270,   319,   324,   375,\n",
       "              412,\n",
       "            ...\n",
       "            18311, 18421, 18520, 18569, 18581, 18657, 18684, 18959, 19042,\n",
       "            19190],\n",
       "           dtype='int64', length=228)"
      ]
     },
     "execution_count": 93,
     "metadata": {},
     "output_type": "execute_result"
    }
   ],
   "source": [
    "ind = list(df.groupby([\"JUNCTION\"]).groups.values())[520]\n",
    "ind"
   ]
  },
  {
   "cell_type": "code",
   "execution_count": 94,
   "id": "6d39e821",
   "metadata": {},
   "outputs": [
    {
     "data": {
      "text/html": [
       "<div>\n",
       "<style scoped>\n",
       "    .dataframe tbody tr th:only-of-type {\n",
       "        vertical-align: middle;\n",
       "    }\n",
       "\n",
       "    .dataframe tbody tr th {\n",
       "        vertical-align: top;\n",
       "    }\n",
       "\n",
       "    .dataframe thead th {\n",
       "        text-align: right;\n",
       "    }\n",
       "</style>\n",
       "<table border=\"1\" class=\"dataframe\">\n",
       "  <thead>\n",
       "    <tr style=\"text-align: right;\">\n",
       "      <th></th>\n",
       "      <th>Sequence number</th>\n",
       "      <th>Sequence ID</th>\n",
       "      <th>V-GENE</th>\n",
       "      <th>J-GENE</th>\n",
       "      <th>V-D-J-REGION</th>\n",
       "      <th>JUNCTION</th>\n",
       "      <th>JUNCTION length</th>\n",
       "    </tr>\n",
       "  </thead>\n",
       "  <tbody>\n",
       "    <tr>\n",
       "      <th>28</th>\n",
       "      <td>45</td>\n",
       "      <td>M06023:233:000000000-JCVJP:1:1102:8885:8937_1:...</td>\n",
       "      <td>Homsap IGHV5-51</td>\n",
       "      <td>Homsap IGHJ6</td>\n",
       "      <td>aagggttctggatacagttttaccaactactggatcggctgggtgc...</td>\n",
       "      <td>tgtgcgaggtcaaattatcataataatagtggttaccactactacg...</td>\n",
       "      <td>63.0</td>\n",
       "    </tr>\n",
       "    <tr>\n",
       "      <th>82</th>\n",
       "      <td>146</td>\n",
       "      <td>M06023:233:000000000-JCVJP:1:1102:7252:9776_1:...</td>\n",
       "      <td>Homsap IGHV5-51</td>\n",
       "      <td>Homsap IGHJ6</td>\n",
       "      <td>aagggttctggatacagttttaccaactactggatcggctgggtgc...</td>\n",
       "      <td>tgtgcgaggtcaaattatcataataatagtggttaccactactacg...</td>\n",
       "      <td>63.0</td>\n",
       "    </tr>\n",
       "    <tr>\n",
       "      <th>97</th>\n",
       "      <td>168</td>\n",
       "      <td>M06023:233:000000000-JCVJP:1:1102:25559:9986_1...</td>\n",
       "      <td>Homsap IGHV5-51</td>\n",
       "      <td>Homsap IGHJ6</td>\n",
       "      <td>aagggttctggatacagttttaccagctactggatcggctgggtgc...</td>\n",
       "      <td>tgtgcgaggtcaaattatcataataatagtggttaccactactacg...</td>\n",
       "      <td>63.0</td>\n",
       "    </tr>\n",
       "    <tr>\n",
       "      <th>135</th>\n",
       "      <td>240</td>\n",
       "      <td>M06023:233:000000000-JCVJP:1:1102:14334:10670_...</td>\n",
       "      <td>Homsap IGHV5-51</td>\n",
       "      <td>Homsap IGHJ6</td>\n",
       "      <td>aagggttctggatacagttttaccagctactggatcggctgggtgc...</td>\n",
       "      <td>tgtgcgaggtcaaattatcataataatagtggttaccactactacg...</td>\n",
       "      <td>63.0</td>\n",
       "    </tr>\n",
       "    <tr>\n",
       "      <th>140</th>\n",
       "      <td>247</td>\n",
       "      <td>M06023:233:000000000-JCVJP:1:1102:13369:10748_...</td>\n",
       "      <td>Homsap IGHV5-51</td>\n",
       "      <td>Homsap IGHJ6</td>\n",
       "      <td>aagggttctggatacagttttaccaactactggatcggctgggtgc...</td>\n",
       "      <td>tgtgcgaggtcaaattatcataataatagtggttaccactactacg...</td>\n",
       "      <td>63.0</td>\n",
       "    </tr>\n",
       "    <tr>\n",
       "      <th>...</th>\n",
       "      <td>...</td>\n",
       "      <td>...</td>\n",
       "      <td>...</td>\n",
       "      <td>...</td>\n",
       "      <td>...</td>\n",
       "      <td>...</td>\n",
       "      <td>...</td>\n",
       "    </tr>\n",
       "    <tr>\n",
       "      <th>18657</th>\n",
       "      <td>78451</td>\n",
       "      <td>M06023:233:000000000-JCVJP:1:2118:10470:16615_...</td>\n",
       "      <td>Homsap IGHV5-51</td>\n",
       "      <td>Homsap IGHJ6</td>\n",
       "      <td>aagggttctggatacagttttaacaactactggatcggctgggtgc...</td>\n",
       "      <td>tgtgcgaggtcaaattatcataataatagtggttaccactactacg...</td>\n",
       "      <td>63.0</td>\n",
       "    </tr>\n",
       "    <tr>\n",
       "      <th>18684</th>\n",
       "      <td>78574</td>\n",
       "      <td>M06023:233:000000000-JCVJP:1:2118:5244:17650_1...</td>\n",
       "      <td>Homsap IGHV5-51</td>\n",
       "      <td>Homsap IGHJ6</td>\n",
       "      <td>gcagcctctgaattcaccctcaatgcctactatatgagctggatac...</td>\n",
       "      <td>tgtgcgaggtcaaattatcataataatagtggttaccactactacg...</td>\n",
       "      <td>63.0</td>\n",
       "    </tr>\n",
       "    <tr>\n",
       "      <th>18959</th>\n",
       "      <td>80058</td>\n",
       "      <td>M06023:233:000000000-JCVJP:1:2119:18108:11995_...</td>\n",
       "      <td>Homsap IGHV5-51</td>\n",
       "      <td>Homsap IGHJ6</td>\n",
       "      <td>taagggttctggatacagttttaccagctactggatcggctgggtg...</td>\n",
       "      <td>tgtgcgaggtcaaattatcataataatagtggttaccactactacg...</td>\n",
       "      <td>63.0</td>\n",
       "    </tr>\n",
       "    <tr>\n",
       "      <th>19042</th>\n",
       "      <td>80505</td>\n",
       "      <td>M06023:233:000000000-JCVJP:1:2119:16397:15782_...</td>\n",
       "      <td>Homsap IGHV5-51</td>\n",
       "      <td>Homsap IGHJ6</td>\n",
       "      <td>aagggttctggatacagttttaccaactactggatcggctgggtgc...</td>\n",
       "      <td>tgtgcgaggtcaaattatcataataatagtggttaccactactacg...</td>\n",
       "      <td>63.0</td>\n",
       "    </tr>\n",
       "    <tr>\n",
       "      <th>19190</th>\n",
       "      <td>81302</td>\n",
       "      <td>M06023:233:000000000-JCVJP:1:2119:18177:24811_...</td>\n",
       "      <td>Homsap IGHV1-46</td>\n",
       "      <td>Homsap IGHJ6</td>\n",
       "      <td>gcatctggatacaccttcaccagctactatatacactggctacgac...</td>\n",
       "      <td>tgtgcgaggtcaaattatcataataatagtggttaccactactacg...</td>\n",
       "      <td>63.0</td>\n",
       "    </tr>\n",
       "  </tbody>\n",
       "</table>\n",
       "<p>228 rows × 7 columns</p>\n",
       "</div>"
      ],
      "text/plain": [
       "       Sequence number                                        Sequence ID  \\\n",
       "28                  45  M06023:233:000000000-JCVJP:1:1102:8885:8937_1:...   \n",
       "82                 146  M06023:233:000000000-JCVJP:1:1102:7252:9776_1:...   \n",
       "97                 168  M06023:233:000000000-JCVJP:1:1102:25559:9986_1...   \n",
       "135                240  M06023:233:000000000-JCVJP:1:1102:14334:10670_...   \n",
       "140                247  M06023:233:000000000-JCVJP:1:1102:13369:10748_...   \n",
       "...                ...                                                ...   \n",
       "18657            78451  M06023:233:000000000-JCVJP:1:2118:10470:16615_...   \n",
       "18684            78574  M06023:233:000000000-JCVJP:1:2118:5244:17650_1...   \n",
       "18959            80058  M06023:233:000000000-JCVJP:1:2119:18108:11995_...   \n",
       "19042            80505  M06023:233:000000000-JCVJP:1:2119:16397:15782_...   \n",
       "19190            81302  M06023:233:000000000-JCVJP:1:2119:18177:24811_...   \n",
       "\n",
       "                V-GENE        J-GENE  \\\n",
       "28     Homsap IGHV5-51  Homsap IGHJ6   \n",
       "82     Homsap IGHV5-51  Homsap IGHJ6   \n",
       "97     Homsap IGHV5-51  Homsap IGHJ6   \n",
       "135    Homsap IGHV5-51  Homsap IGHJ6   \n",
       "140    Homsap IGHV5-51  Homsap IGHJ6   \n",
       "...                ...           ...   \n",
       "18657  Homsap IGHV5-51  Homsap IGHJ6   \n",
       "18684  Homsap IGHV5-51  Homsap IGHJ6   \n",
       "18959  Homsap IGHV5-51  Homsap IGHJ6   \n",
       "19042  Homsap IGHV5-51  Homsap IGHJ6   \n",
       "19190  Homsap IGHV1-46  Homsap IGHJ6   \n",
       "\n",
       "                                            V-D-J-REGION  \\\n",
       "28     aagggttctggatacagttttaccaactactggatcggctgggtgc...   \n",
       "82     aagggttctggatacagttttaccaactactggatcggctgggtgc...   \n",
       "97     aagggttctggatacagttttaccagctactggatcggctgggtgc...   \n",
       "135    aagggttctggatacagttttaccagctactggatcggctgggtgc...   \n",
       "140    aagggttctggatacagttttaccaactactggatcggctgggtgc...   \n",
       "...                                                  ...   \n",
       "18657  aagggttctggatacagttttaacaactactggatcggctgggtgc...   \n",
       "18684  gcagcctctgaattcaccctcaatgcctactatatgagctggatac...   \n",
       "18959  taagggttctggatacagttttaccagctactggatcggctgggtg...   \n",
       "19042  aagggttctggatacagttttaccaactactggatcggctgggtgc...   \n",
       "19190  gcatctggatacaccttcaccagctactatatacactggctacgac...   \n",
       "\n",
       "                                                JUNCTION  JUNCTION length  \n",
       "28     tgtgcgaggtcaaattatcataataatagtggttaccactactacg...             63.0  \n",
       "82     tgtgcgaggtcaaattatcataataatagtggttaccactactacg...             63.0  \n",
       "97     tgtgcgaggtcaaattatcataataatagtggttaccactactacg...             63.0  \n",
       "135    tgtgcgaggtcaaattatcataataatagtggttaccactactacg...             63.0  \n",
       "140    tgtgcgaggtcaaattatcataataatagtggttaccactactacg...             63.0  \n",
       "...                                                  ...              ...  \n",
       "18657  tgtgcgaggtcaaattatcataataatagtggttaccactactacg...             63.0  \n",
       "18684  tgtgcgaggtcaaattatcataataatagtggttaccactactacg...             63.0  \n",
       "18959  tgtgcgaggtcaaattatcataataatagtggttaccactactacg...             63.0  \n",
       "19042  tgtgcgaggtcaaattatcataataatagtggttaccactactacg...             63.0  \n",
       "19190  tgtgcgaggtcaaattatcataataatagtggttaccactactacg...             63.0  \n",
       "\n",
       "[228 rows x 7 columns]"
      ]
     },
     "execution_count": 94,
     "metadata": {},
     "output_type": "execute_result"
    }
   ],
   "source": [
    "df.loc[ind,:]"
   ]
  },
  {
   "cell_type": "code",
   "execution_count": 95,
   "id": "eef11079",
   "metadata": {},
   "outputs": [
    {
     "data": {
      "text/plain": [
       "'aagggttctggatacagttttaccaactactggatcggctgggtgcgccagatgcccgggaagggcctggagtggatggggatcatctctcccggtgactctgataccagatacagcccgtccttccaaggccaggtcaccatctcagccgacaagtccatcagtaccgcctacttgcagtggagtagcctgaaggcctcggacaccgccatgtattactgtgcgaggtcaaattatcataataatagtggttaccactactacgacggtatggacgtctggggccaagggaccac'"
      ]
     },
     "execution_count": 95,
     "metadata": {},
     "output_type": "execute_result"
    }
   ],
   "source": [
    "a = df.loc[28,\"V-D-J-REGION\"]\n",
    "a"
   ]
  },
  {
   "cell_type": "code",
   "execution_count": 96,
   "id": "89652bae",
   "metadata": {},
   "outputs": [
    {
     "data": {
      "text/plain": [
       "'gcttctggatacaccttcaccgactactatatgcactgggtgcgacaggcccctggacaagggcttgagtggatgggatggatcaaccctaacagtggtggcacaaactctgcacagaagtttcagggcagggtcaccatgaccagggacacgtccatcagcacagcctacatggagctgagcaggctgagatctgacgacacggccgtgtattactgtgcgagagataccgttggaactacggttgatgcttttgatatctggggcccagggacaat'"
      ]
     },
     "execution_count": 96,
     "metadata": {},
     "output_type": "execute_result"
    }
   ],
   "source": [
    "b = df.loc[83,\"V-D-J-REGION\"]\n",
    "b"
   ]
  },
  {
   "cell_type": "code",
   "execution_count": 110,
   "id": "010e263e",
   "metadata": {},
   "outputs": [
    {
     "data": {
      "text/plain": [
       "False"
      ]
     },
     "execution_count": 110,
     "metadata": {},
     "output_type": "execute_result"
    }
   ],
   "source": [
    "b[0:10] == a[0:10]"
   ]
  },
  {
   "cell_type": "code",
   "execution_count": 103,
   "id": "260b1f56",
   "metadata": {},
   "outputs": [
    {
     "data": {
      "text/plain": [
       "False"
      ]
     },
     "execution_count": 103,
     "metadata": {},
     "output_type": "execute_result"
    }
   ],
   "source": [
    "a==b"
   ]
  },
  {
   "cell_type": "code",
   "execution_count": 112,
   "id": "56a182d7",
   "metadata": {},
   "outputs": [
    {
     "data": {
      "text/plain": [
       "'gcttctggat'"
      ]
     },
     "execution_count": 112,
     "metadata": {},
     "output_type": "execute_result"
    }
   ],
   "source": [
    "b[0:10]"
   ]
  },
  {
   "cell_type": "code",
   "execution_count": 111,
   "id": "32a313d6",
   "metadata": {},
   "outputs": [
    {
     "data": {
      "text/plain": [
       "'aagggttctg'"
      ]
     },
     "execution_count": 111,
     "metadata": {},
     "output_type": "execute_result"
    }
   ],
   "source": [
    "a[0:10]"
   ]
  },
  {
   "cell_type": "code",
   "execution_count": 115,
   "id": "84f4c9d6",
   "metadata": {
    "scrolled": true
   },
   "outputs": [
    {
     "data": {
      "text/html": [
       "<div>\n",
       "<style scoped>\n",
       "    .dataframe tbody tr th:only-of-type {\n",
       "        vertical-align: middle;\n",
       "    }\n",
       "\n",
       "    .dataframe tbody tr th {\n",
       "        vertical-align: top;\n",
       "    }\n",
       "\n",
       "    .dataframe thead th {\n",
       "        text-align: right;\n",
       "    }\n",
       "</style>\n",
       "<table border=\"1\" class=\"dataframe\">\n",
       "  <thead>\n",
       "    <tr style=\"text-align: right;\">\n",
       "      <th></th>\n",
       "      <th>Sequence number</th>\n",
       "      <th>Sequence ID</th>\n",
       "      <th>V-GENE</th>\n",
       "      <th>J-GENE</th>\n",
       "      <th>V-D-J-REGION</th>\n",
       "      <th>JUNCTION</th>\n",
       "      <th>JUNCTION length</th>\n",
       "    </tr>\n",
       "  </thead>\n",
       "  <tbody>\n",
       "    <tr>\n",
       "      <th>0</th>\n",
       "      <td>1</td>\n",
       "      <td>M06023:233:000000000-JCVJP:1:1102:22274:8511_1...</td>\n",
       "      <td>Homsap IGHV5-51</td>\n",
       "      <td>Homsap IGHJ6</td>\n",
       "      <td>aagggttctggatacagttttaccaactactggatcggctgggtgc...</td>\n",
       "      <td>tgtgcgaggtcaaattatcatgatagtagtggttaccactactacg...</td>\n",
       "      <td>63.0</td>\n",
       "    </tr>\n",
       "    <tr>\n",
       "      <th>1</th>\n",
       "      <td>3</td>\n",
       "      <td>M06023:233:000000000-JCVJP:1:1102:23002:8543_1...</td>\n",
       "      <td>Homsap IGHV2-5</td>\n",
       "      <td>Homsap IGHJ4</td>\n",
       "      <td>acaccgaccctcacgctgacctgtaccttctctgggttctcactca...</td>\n",
       "      <td>tgtgcacacagctctgtcggggtcgacgggctggtccaggactttg...</td>\n",
       "      <td>54.0</td>\n",
       "    </tr>\n",
       "    <tr>\n",
       "      <th>2</th>\n",
       "      <td>4</td>\n",
       "      <td>M06023:233:000000000-JCVJP:1:1102:11694:8553_1...</td>\n",
       "      <td>Homsap IGHV2-5</td>\n",
       "      <td>Homsap IGHJ4</td>\n",
       "      <td>acacagaccctcacgctgacctgcaccttctctgggttctcactca...</td>\n",
       "      <td>tgtgcacacagctctgtaggggtcgacgggctggtccaggactttg...</td>\n",
       "      <td>54.0</td>\n",
       "    </tr>\n",
       "    <tr>\n",
       "      <th>3</th>\n",
       "      <td>5</td>\n",
       "      <td>M06023:233:000000000-JCVJP:1:1102:14232:8560_1...</td>\n",
       "      <td>Homsap IGHV1-46</td>\n",
       "      <td>Homsap IGHJ4</td>\n",
       "      <td>gcatctggatacatcttcaccagctactttatgcactgggtgcgac...</td>\n",
       "      <td>tgtgcgagagatgggtcgattgagtggctacgattgggctactgg</td>\n",
       "      <td>45.0</td>\n",
       "    </tr>\n",
       "    <tr>\n",
       "      <th>4</th>\n",
       "      <td>8</td>\n",
       "      <td>M06023:233:000000000-JCVJP:1:1102:28057:8591_1...</td>\n",
       "      <td>Homsap IGHV2-5</td>\n",
       "      <td>Homsap IGHJ4</td>\n",
       "      <td>acacagaccctcacgctgacctgcaccgtctctgggttctcactca...</td>\n",
       "      <td>tgtccacacagctctataggggtcgacgggctggtccaggactttg...</td>\n",
       "      <td>54.0</td>\n",
       "    </tr>\n",
       "    <tr>\n",
       "      <th>...</th>\n",
       "      <td>...</td>\n",
       "      <td>...</td>\n",
       "      <td>...</td>\n",
       "      <td>...</td>\n",
       "      <td>...</td>\n",
       "      <td>...</td>\n",
       "      <td>...</td>\n",
       "    </tr>\n",
       "    <tr>\n",
       "      <th>618</th>\n",
       "      <td>79933</td>\n",
       "      <td>M06023:233:000000000-JCVJP:1:2119:2029:10889_1...</td>\n",
       "      <td>Homsap IGHV2-5</td>\n",
       "      <td>Homsap IGHJ4</td>\n",
       "      <td>acacagaccctcacgctgacctgcaccttctctgggttctcactca...</td>\n",
       "      <td>tgtccactcagctctataggggtcgacgggctggtccaggactttg...</td>\n",
       "      <td>54.0</td>\n",
       "    </tr>\n",
       "    <tr>\n",
       "      <th>619</th>\n",
       "      <td>79955</td>\n",
       "      <td>M06023:233:000000000-JCVJP:1:2119:23986:11093_...</td>\n",
       "      <td>Homsap IGHV2-5</td>\n",
       "      <td>Homsap IGHJ4</td>\n",
       "      <td>acacagaccctcacgctgacctgcaccttctctgggttctcactca...</td>\n",
       "      <td>tgtgcacacagctctgtcggggtcgaccggctggtccaggactttg...</td>\n",
       "      <td>54.0</td>\n",
       "    </tr>\n",
       "    <tr>\n",
       "      <th>620</th>\n",
       "      <td>80553</td>\n",
       "      <td>M06023:233:000000000-JCVJP:1:2119:5129:16212_1...</td>\n",
       "      <td>Homsap IGHV1-24</td>\n",
       "      <td>Homsap IGHJ6</td>\n",
       "      <td>gtttccggatacaccctcactgaattatccatgcactgggtgcgac...</td>\n",
       "      <td>tgtgcaacagagctttatcgtcccctttattactataataatcgtg...</td>\n",
       "      <td>60.0</td>\n",
       "    </tr>\n",
       "    <tr>\n",
       "      <th>621</th>\n",
       "      <td>81003</td>\n",
       "      <td>M06023:233:000000000-JCVJP:1:2119:9252:20529_1...</td>\n",
       "      <td>Homsap IGHV2-5</td>\n",
       "      <td>Homsap IGHJ4</td>\n",
       "      <td>acacagaccctcacgctgacctgcaccttctctgggttctcactca...</td>\n",
       "      <td>tgtgcacacagctctgtaggggtcgacgggctggtccaggactttg...</td>\n",
       "      <td>54.0</td>\n",
       "    </tr>\n",
       "    <tr>\n",
       "      <th>622</th>\n",
       "      <td>81058</td>\n",
       "      <td>M06023:233:000000000-JCVJP:1:2119:6897:21071_1...</td>\n",
       "      <td>Homsap IGHV1-46</td>\n",
       "      <td>Homsap IGHJ4</td>\n",
       "      <td>gcatctggatacaccttcaccaggtactatatgcactgggtgcgac...</td>\n",
       "      <td>tgtgcgaggaggcacgggcaatatggccccggctactactttgact...</td>\n",
       "      <td>51.0</td>\n",
       "    </tr>\n",
       "  </tbody>\n",
       "</table>\n",
       "<p>623 rows × 7 columns</p>\n",
       "</div>"
      ],
      "text/plain": [
       "     Sequence number                                        Sequence ID  \\\n",
       "0                  1  M06023:233:000000000-JCVJP:1:1102:22274:8511_1...   \n",
       "1                  3  M06023:233:000000000-JCVJP:1:1102:23002:8543_1...   \n",
       "2                  4  M06023:233:000000000-JCVJP:1:1102:11694:8553_1...   \n",
       "3                  5  M06023:233:000000000-JCVJP:1:1102:14232:8560_1...   \n",
       "4                  8  M06023:233:000000000-JCVJP:1:1102:28057:8591_1...   \n",
       "..               ...                                                ...   \n",
       "618            79933  M06023:233:000000000-JCVJP:1:2119:2029:10889_1...   \n",
       "619            79955  M06023:233:000000000-JCVJP:1:2119:23986:11093_...   \n",
       "620            80553  M06023:233:000000000-JCVJP:1:2119:5129:16212_1...   \n",
       "621            81003  M06023:233:000000000-JCVJP:1:2119:9252:20529_1...   \n",
       "622            81058  M06023:233:000000000-JCVJP:1:2119:6897:21071_1...   \n",
       "\n",
       "              V-GENE        J-GENE  \\\n",
       "0    Homsap IGHV5-51  Homsap IGHJ6   \n",
       "1     Homsap IGHV2-5  Homsap IGHJ4   \n",
       "2     Homsap IGHV2-5  Homsap IGHJ4   \n",
       "3    Homsap IGHV1-46  Homsap IGHJ4   \n",
       "4     Homsap IGHV2-5  Homsap IGHJ4   \n",
       "..               ...           ...   \n",
       "618   Homsap IGHV2-5  Homsap IGHJ4   \n",
       "619   Homsap IGHV2-5  Homsap IGHJ4   \n",
       "620  Homsap IGHV1-24  Homsap IGHJ6   \n",
       "621   Homsap IGHV2-5  Homsap IGHJ4   \n",
       "622  Homsap IGHV1-46  Homsap IGHJ4   \n",
       "\n",
       "                                          V-D-J-REGION  \\\n",
       "0    aagggttctggatacagttttaccaactactggatcggctgggtgc...   \n",
       "1    acaccgaccctcacgctgacctgtaccttctctgggttctcactca...   \n",
       "2    acacagaccctcacgctgacctgcaccttctctgggttctcactca...   \n",
       "3    gcatctggatacatcttcaccagctactttatgcactgggtgcgac...   \n",
       "4    acacagaccctcacgctgacctgcaccgtctctgggttctcactca...   \n",
       "..                                                 ...   \n",
       "618  acacagaccctcacgctgacctgcaccttctctgggttctcactca...   \n",
       "619  acacagaccctcacgctgacctgcaccttctctgggttctcactca...   \n",
       "620  gtttccggatacaccctcactgaattatccatgcactgggtgcgac...   \n",
       "621  acacagaccctcacgctgacctgcaccttctctgggttctcactca...   \n",
       "622  gcatctggatacaccttcaccaggtactatatgcactgggtgcgac...   \n",
       "\n",
       "                                              JUNCTION  JUNCTION length  \n",
       "0    tgtgcgaggtcaaattatcatgatagtagtggttaccactactacg...             63.0  \n",
       "1    tgtgcacacagctctgtcggggtcgacgggctggtccaggactttg...             54.0  \n",
       "2    tgtgcacacagctctgtaggggtcgacgggctggtccaggactttg...             54.0  \n",
       "3        tgtgcgagagatgggtcgattgagtggctacgattgggctactgg             45.0  \n",
       "4    tgtccacacagctctataggggtcgacgggctggtccaggactttg...             54.0  \n",
       "..                                                 ...              ...  \n",
       "618  tgtccactcagctctataggggtcgacgggctggtccaggactttg...             54.0  \n",
       "619  tgtgcacacagctctgtcggggtcgaccggctggtccaggactttg...             54.0  \n",
       "620  tgtgcaacagagctttatcgtcccctttattactataataatcgtg...             60.0  \n",
       "621  tgtgcacacagctctgtaggggtcgacgggctggtccaggactttg...             54.0  \n",
       "622  tgtgcgaggaggcacgggcaatatggccccggctactactttgact...             51.0  \n",
       "\n",
       "[623 rows x 7 columns]"
      ]
     },
     "execution_count": 115,
     "metadata": {},
     "output_type": "execute_result"
    }
   ],
   "source": [
    "df_unique = df.drop_duplicates(subset=\"JUNCTION\", ignore_index=True)\n",
    "df_unique"
   ]
  },
  {
   "cell_type": "code",
   "execution_count": 116,
   "id": "d337688e",
   "metadata": {},
   "outputs": [
    {
     "name": "stdout",
     "output_type": "stream",
     "text": [
      "For group ['JUNCTION length'] = 24.0 , 14 sequences, 91 calls, use 0.001884 seconds.\n",
      "For group ['JUNCTION length'] = 30.0 , 2 sequences, 1 calls, use 0.000875 seconds.\n",
      "For group ['JUNCTION length'] = 33.0 , 2 sequences, 1 calls, use 0.000746 seconds.\n",
      "For group ['JUNCTION length'] = 39.0 , 7 sequences, 21 calls, use 0.000743 seconds.\n",
      "For group ['JUNCTION length'] = 42.0 , 15 sequences, 105 calls, use 0.001982 seconds.\n",
      "For group ['JUNCTION length'] = 45.0 , 64 sequences, 2016 calls, use 0.013104 seconds.\n",
      "For group ['JUNCTION length'] = 48.0 , 61 sequences, 1830 calls, use 0.013916 seconds.\n",
      "For group ['JUNCTION length'] = 51.0 , 16 sequences, 120 calls, use 0.001420 seconds.\n",
      "For group ['JUNCTION length'] = 54.0 , 250 sequences, 31125 calls, use 0.224725 seconds.\n",
      "For group ['JUNCTION length'] = 57.0 , 6 sequences, 15 calls, use 0.000816 seconds.\n",
      "For group ['JUNCTION length'] = 60.0 , 63 sequences, 1953 calls, use 0.018773 seconds.\n",
      "For group ['JUNCTION length'] = 63.0 , 68 sequences, 2278 calls, use 0.018188 seconds.\n",
      "For group ['JUNCTION length'] = 66.0 , 15 sequences, 105 calls, use 0.002431 seconds.\n",
      "For group ['JUNCTION length'] = 69.0 , 13 sequences, 78 calls, use 0.002243 seconds.\n",
      "For group ['JUNCTION length'] = 72.0 , 16 sequences, 120 calls, use 0.001561 seconds.\n",
      "For group ['JUNCTION length'] = 75.0 , 2 sequences, 1 calls, use 0.000684 seconds.\n",
      "For group ['JUNCTION length'] = 81.0 , 3 sequences, 3 calls, use 0.000544 seconds.\n",
      "For group ['JUNCTION length'] = 84.0 , 4 sequences, 6 calls, use 0.000669 seconds.\n",
      "CPU times: user 297 ms, sys: 9.87 ms, total: 307 ms\n",
      "Wall time: 319 ms\n"
     ]
    }
   ],
   "source": [
    "%%time\n",
    "d_to_nearest_all = dist_to_nearest_all_exhaustive(df_unique)"
   ]
  },
  {
   "cell_type": "code",
   "execution_count": 122,
   "id": "ef903e35",
   "metadata": {},
   "outputs": [
    {
     "data": {
      "image/png": "[encoded data removed]",
      "text/plain": [
       "<Figure size 432x288 with 1 Axes>"
      ]
     },
     "metadata": {
      "needs_background": "light"
     },
     "output_type": "display_data"
    }
   ],
   "source": [
    "plt.hist(d_to_nearest_all,bins=20)\n",
    "plt.yscale('log')\n",
    "plt.show()"
   ]
  },
  {
   "cell_type": "code",
   "execution_count": null,
   "id": "6c8b9c47",
   "metadata": {},
   "outputs": [],
   "source": []
  }
 ],
 "metadata": {
  "kernelspec": {
   "display_name": "Python 3",
   "language": "python",
   "name": "python3"
  },
  "language_info": {
   "codemirror_mode": {
    "name": "ipython",
    "version": 3
   },
   "file_extension": ".py",
   "mimetype": "text/x-python",
   "name": "python",
   "nbconvert_exporter": "python",
   "pygments_lexer": "ipython3",
   "version": "3.7.10"
  }
 },
 "nbformat": 4,
 "nbformat_minor": 5
}
